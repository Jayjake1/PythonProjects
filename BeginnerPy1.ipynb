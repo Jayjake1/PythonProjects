{
  "nbformat": 4,
  "nbformat_minor": 0,
  "metadata": {
    "colab": {
      "name": "BeginnerPy1.ipynb",
      "provenance": [],
      "collapsed_sections": [],
      "authorship_tag": "ABX9TyO9loxM3RSAja/SeVUnevnj",
      "include_colab_link": true
    },
    "kernelspec": {
      "name": "python3",
      "display_name": "Python 3"
    },
    "language_info": {
      "name": "python"
    }
  },
  "cells": [
    {
      "cell_type": "markdown",
      "metadata": {
        "id": "view-in-github",
        "colab_type": "text"
      },
      "source": [
        "<a href=\"https://colab.research.google.com/github/Jayjake1/PythonProjects/blob/master/BeginnerPy1.ipynb\" target=\"_parent\"><img src=\"https://colab.research.google.com/assets/colab-badge.svg\" alt=\"Open In Colab\"/></a>"
      ]
    },
    {
      "cell_type": "markdown",
      "metadata": {
        "id": "61vA5qRzt58e"
      },
      "source": [
        "# Local and Global scope\n",
        "\n",
        "Local defined can only be used inside that fun itself\n",
        "\n",
        "Global can be used anywhere in the function or outside in whole program\n",
        "\n",
        "Namespace is valid in certain scopes"
      ]
    },
    {
      "cell_type": "code",
      "metadata": {
        "colab": {
          "base_uri": "https://localhost:8080/"
        },
        "id": "oBNIGWJet1oU",
        "outputId": "e28af5ea-b567-488e-b45b-02a58024d499"
      },
      "source": [
        "overall_health = 10 # this has a global scope\n",
        "def drink_portion():\n",
        "  user_health = 5 # scope for this variable is local\n",
        "  print(f\"overall_health is {overall_health}\")\n",
        "  print(f\"user_health is {user_health}\")\n",
        "\n",
        "drink_portion()\n",
        "print(overall_health)"
      ],
      "execution_count": 3,
      "outputs": [
        {
          "output_type": "stream",
          "name": "stdout",
          "text": [
            "overall_health is 10\n",
            "user_health is 5\n",
            "10\n"
          ]
        }
      ]
    },
    {
      "cell_type": "code",
      "metadata": {
        "colab": {
          "base_uri": "https://localhost:8080/",
          "height": 166
        },
        "id": "MJPKrDT_uqot",
        "outputId": "4aa61e85-6fff-43b2-8cf3-febf0059744c"
      },
      "source": [
        "print(user_health)  # The scope for this variable is just inside the function, so outside can't access it"
      ],
      "execution_count": 4,
      "outputs": [
        {
          "output_type": "error",
          "ename": "NameError",
          "evalue": "ignored",
          "traceback": [
            "\u001b[0;31m---------------------------------------------------------------------------\u001b[0m",
            "\u001b[0;31mNameError\u001b[0m                                 Traceback (most recent call last)",
            "\u001b[0;32m<ipython-input-4-a7c56e2579d2>\u001b[0m in \u001b[0;36m<module>\u001b[0;34m()\u001b[0m\n\u001b[0;32m----> 1\u001b[0;31m \u001b[0mprint\u001b[0m\u001b[0;34m(\u001b[0m\u001b[0muser_health\u001b[0m\u001b[0;34m)\u001b[0m\u001b[0;34m\u001b[0m\u001b[0;34m\u001b[0m\u001b[0m\n\u001b[0m",
            "\u001b[0;31mNameError\u001b[0m: name 'user_health' is not defined"
          ]
        }
      ]
    },
    {
      "cell_type": "code",
      "metadata": {
        "id": "4d_j3J6ivAjR"
      },
      "source": [
        "def game():\n",
        "  def drink_portion():\n",
        "    user_health = 5 # scope for this variable is local\n",
        "    print(f\"overall_health is {overall_health}\")\n",
        "    print(f\"user_health is {user_health}\")    "
      ],
      "execution_count": 10,
      "outputs": []
    },
    {
      "cell_type": "code",
      "metadata": {
        "colab": {
          "base_uri": "https://localhost:8080/"
        },
        "id": "aFTTcqKOyCx-",
        "outputId": "76481160-73a2-4a50-a432-2900623e9dc8"
      },
      "source": [
        "drink_portion()"
      ],
      "execution_count": 11,
      "outputs": [
        {
          "output_type": "stream",
          "name": "stdout",
          "text": [
            "overall_health is 10\n",
            "user_health is 5\n"
          ]
        }
      ]
    },
    {
      "cell_type": "code",
      "metadata": {
        "colab": {
          "base_uri": "https://localhost:8080/",
          "height": 166
        },
        "id": "Z_60Mt60yHUV",
        "outputId": "03b76ae4-6e9b-4eb3-a918-37f48c72bdae"
      },
      "source": [
        "game().drink_portion()"
      ],
      "execution_count": 8,
      "outputs": [
        {
          "output_type": "error",
          "ename": "AttributeError",
          "evalue": "ignored",
          "traceback": [
            "\u001b[0;31m---------------------------------------------------------------------------\u001b[0m",
            "\u001b[0;31mAttributeError\u001b[0m                            Traceback (most recent call last)",
            "\u001b[0;32m<ipython-input-8-0a590cb29cc9>\u001b[0m in \u001b[0;36m<module>\u001b[0;34m()\u001b[0m\n\u001b[0;32m----> 1\u001b[0;31m \u001b[0mgame\u001b[0m\u001b[0;34m(\u001b[0m\u001b[0;34m)\u001b[0m\u001b[0;34m.\u001b[0m\u001b[0mdrink_portion\u001b[0m\u001b[0;34m(\u001b[0m\u001b[0;34m)\u001b[0m\u001b[0;34m\u001b[0m\u001b[0;34m\u001b[0m\u001b[0m\n\u001b[0m",
            "\u001b[0;31mAttributeError\u001b[0m: 'NoneType' object has no attribute 'drink_portion'"
          ]
        }
      ]
    },
    {
      "cell_type": "code",
      "metadata": {
        "id": "vtaB6McjyNR7"
      },
      "source": [
        "def gamer():\n",
        "  def health():\n",
        "    new_health = 10\n",
        "    old_health = 5\n",
        "    print(old_health)"
      ],
      "execution_count": 12,
      "outputs": []
    },
    {
      "cell_type": "code",
      "metadata": {
        "colab": {
          "base_uri": "https://localhost:8080/",
          "height": 166
        },
        "id": "lbS9-OAnyTU1",
        "outputId": "e5c513f1-7444-4b18-81d2-bbe1f4cfb28b"
      },
      "source": [
        "health()"
      ],
      "execution_count": 13,
      "outputs": [
        {
          "output_type": "error",
          "ename": "NameError",
          "evalue": "ignored",
          "traceback": [
            "\u001b[0;31m---------------------------------------------------------------------------\u001b[0m",
            "\u001b[0;31mNameError\u001b[0m                                 Traceback (most recent call last)",
            "\u001b[0;32m<ipython-input-13-eaed8f9a5409>\u001b[0m in \u001b[0;36m<module>\u001b[0;34m()\u001b[0m\n\u001b[0;32m----> 1\u001b[0;31m \u001b[0mhealth\u001b[0m\u001b[0;34m(\u001b[0m\u001b[0;34m)\u001b[0m\u001b[0;34m\u001b[0m\u001b[0;34m\u001b[0m\u001b[0m\n\u001b[0m",
            "\u001b[0;31mNameError\u001b[0m: name 'health' is not defined"
          ]
        }
      ]
    },
    {
      "cell_type": "code",
      "metadata": {
        "colab": {
          "base_uri": "https://localhost:8080/",
          "height": 183
        },
        "id": "nmy2OSOMyylS",
        "outputId": "5ca51b0b-9562-4bbb-d2dd-250cadeb07e0"
      },
      "source": [
        "gamer()\n",
        "health()    # as scope is indide we can't access this"
      ],
      "execution_count": 16,
      "outputs": [
        {
          "output_type": "error",
          "ename": "NameError",
          "evalue": "ignored",
          "traceback": [
            "\u001b[0;31m---------------------------------------------------------------------------\u001b[0m",
            "\u001b[0;31mNameError\u001b[0m                                 Traceback (most recent call last)",
            "\u001b[0;32m<ipython-input-16-8bff88c8cb44>\u001b[0m in \u001b[0;36m<module>\u001b[0;34m()\u001b[0m\n\u001b[1;32m      1\u001b[0m \u001b[0mgamer\u001b[0m\u001b[0;34m(\u001b[0m\u001b[0;34m)\u001b[0m\u001b[0;34m\u001b[0m\u001b[0;34m\u001b[0m\u001b[0m\n\u001b[0;32m----> 2\u001b[0;31m \u001b[0mhealth\u001b[0m\u001b[0;34m(\u001b[0m\u001b[0;34m)\u001b[0m\u001b[0;34m\u001b[0m\u001b[0;34m\u001b[0m\u001b[0m\n\u001b[0m",
            "\u001b[0;31mNameError\u001b[0m: name 'health' is not defined"
          ]
        }
      ]
    },
    {
      "cell_type": "markdown",
      "metadata": {
        "id": "Q8Zia0mezI4s"
      },
      "source": [
        "There is no block scope in python"
      ]
    },
    {
      "cell_type": "code",
      "metadata": {
        "id": "GZGdkuHzy29A"
      },
      "source": [
        "game_level = 3\n",
        "enemies = ['skeleton','zombie','Alien']\n",
        "if game_level<5:\n",
        "  new_enemy = enemies[0]"
      ],
      "execution_count": 18,
      "outputs": []
    },
    {
      "cell_type": "code",
      "metadata": {
        "colab": {
          "base_uri": "https://localhost:8080/"
        },
        "id": "a0ybhihMzwsQ",
        "outputId": "2160fe77-5335-4680-8a42-b3a0c880b979"
      },
      "source": [
        "print(new_enemy)  # in python, there is no block scope"
      ],
      "execution_count": 19,
      "outputs": [
        {
          "output_type": "stream",
          "name": "stdout",
          "text": [
            "skeleton\n"
          ]
        }
      ]
    },
    {
      "cell_type": "code",
      "metadata": {
        "colab": {
          "base_uri": "https://localhost:8080/",
          "height": 201
        },
        "id": "caqiUoF2z2Ff",
        "outputId": "f5105341-d4bf-49a4-d4b5-164ae3c9d1b9"
      },
      "source": [
        "game_level = 3\n",
        "def zombie():\n",
        "  enemies = ['skeleton','zombie','Alien']\n",
        "  if game_level<5:\n",
        "    new_enemy1 = enemies[0]\n",
        "\n",
        "print(new_enemy1)     # Here the scope varied because it came inside the block"
      ],
      "execution_count": 23,
      "outputs": [
        {
          "output_type": "error",
          "ename": "NameError",
          "evalue": "ignored",
          "traceback": [
            "\u001b[0;31m---------------------------------------------------------------------------\u001b[0m",
            "\u001b[0;31mNameError\u001b[0m                                 Traceback (most recent call last)",
            "\u001b[0;32m<ipython-input-23-76ede3c08dae>\u001b[0m in \u001b[0;36m<module>\u001b[0;34m()\u001b[0m\n\u001b[1;32m      5\u001b[0m     \u001b[0mnew_enemy1\u001b[0m \u001b[0;34m=\u001b[0m \u001b[0menemies\u001b[0m\u001b[0;34m[\u001b[0m\u001b[0;36m0\u001b[0m\u001b[0;34m]\u001b[0m\u001b[0;34m\u001b[0m\u001b[0;34m\u001b[0m\u001b[0m\n\u001b[1;32m      6\u001b[0m \u001b[0;34m\u001b[0m\u001b[0m\n\u001b[0;32m----> 7\u001b[0;31m \u001b[0mprint\u001b[0m\u001b[0;34m(\u001b[0m\u001b[0mnew_enemy1\u001b[0m\u001b[0;34m)\u001b[0m\u001b[0;34m\u001b[0m\u001b[0;34m\u001b[0m\u001b[0m\n\u001b[0m",
            "\u001b[0;31mNameError\u001b[0m: name 'new_enemy1' is not defined"
          ]
        }
      ]
    },
    {
      "cell_type": "code",
      "metadata": {
        "id": "Rc6vtNR20FWN"
      },
      "source": [
        "game_level = 3\n",
        "def zombie():\n",
        "  enemies = ['skeleton','zombie','Alien']\n",
        "  if game_level<5:\n",
        "    new_enemy1 = enemies[0]\n",
        "    \n",
        "    print(new_enemy1) "
      ],
      "execution_count": 24,
      "outputs": []
    },
    {
      "cell_type": "markdown",
      "metadata": {
        "id": "Oaw5KIgb0phw"
      },
      "source": [
        "## Modifying global scope\n",
        "\n",
        "Try avoiding modifying global scope"
      ]
    },
    {
      "cell_type": "code",
      "metadata": {
        "colab": {
          "base_uri": "https://localhost:8080/"
        },
        "id": "36IxPqU50HYC",
        "outputId": "774733a1-8ae8-4328-9605-c7f0249dfe6b"
      },
      "source": [
        "enemies = 1\n",
        "\n",
        "def increase_enemies():\n",
        "  print(f\"enemies inside function: {enemies}\")\n",
        "  return enemies+1\n",
        "\n",
        "enemies = increase_enemies()  \n",
        "print(enemies)"
      ],
      "execution_count": 25,
      "outputs": [
        {
          "output_type": "stream",
          "name": "stdout",
          "text": [
            "enemies inside function: 1\n",
            "2\n"
          ]
        }
      ]
    },
    {
      "cell_type": "markdown",
      "metadata": {
        "id": "96uqjDrW6Jrs"
      },
      "source": [
        "Naming conventions for constants :\n",
        "\n",
        "PI, HELLO, TWITTER"
      ]
    },
    {
      "cell_type": "markdown",
      "metadata": {
        "id": "bgxXnJKv-Bvp"
      },
      "source": [
        "## Number guessing"
      ]
    },
    {
      "cell_type": "code",
      "metadata": {
        "colab": {
          "base_uri": "https://localhost:8080/"
        },
        "id": "6lU8tlHH5G4S",
        "outputId": "ee2eec8e-f981-4760-825e-84564d59cdff"
      },
      "source": [
        "import random\n",
        "logo = \"\"\"\n",
        "\n",
        "     ___       _______   __    ______        _______.\n",
        "    /   \\     |       \\ |  |  /  __  \\      /       |\n",
        "   /  ^  \\    |  .--.  ||  | |  |  |  |    |   (----`\n",
        "  /  /_\\  \\   |  |  |  ||  | |  |  |  |     \\   \\    \n",
        " /  _____  \\  |  '--'  ||  | |  `--'  | .----)   |   \n",
        "/__/     \\__\\ |_______/ |__|  \\______/  |_______/    \n",
        "                                                     \n",
        "\n",
        "\"\"\"\n",
        "print('Welcome to number guessing game')\n",
        "print('I am thinking of number between 1 to 100:')\n",
        "game_type = input('Choose the difficulty. Type \\'easy\\' or \\'hard\\'')\n",
        "number = random.randint(1,100)\n",
        "number_of_attempts = 0\n",
        "if game_type == 'easy':\n",
        "  number_of_attempts = 10\n",
        "elif game_type == 'hard':\n",
        "  number_of_attempts = 5\n",
        "\n",
        "for i in range(number_of_attempts):\n",
        "  print('Number of attempts left',number_of_attempts-i)\n",
        "  user_in = int(input(\"Make a guess: \"))\n",
        "  if number<user_in:\n",
        "    print('Too high.')\n",
        "  elif number>user_in:\n",
        "    print('Its too low') \n",
        "  elif number == user_in:\n",
        "    print(\"Yay! thats a correct guess\")\n",
        "    break   \n",
        "\n",
        "print(logo)    "
      ],
      "execution_count": 29,
      "outputs": [
        {
          "output_type": "stream",
          "name": "stdout",
          "text": [
            "Welcome to number guessing game\n",
            "I am thinking of number between 1 to 100:\n",
            "Choose the difficulty. Type 'easy' or 'hard'easy\n",
            "Number of attempts left 10\n",
            "Make a guess: 40\n",
            "Too high.\n",
            "Number of attempts left 9\n",
            "Make a guess: 30\n",
            "Too high.\n",
            "Number of attempts left 8\n",
            "Make a guess: 20\n",
            "Too high.\n",
            "Number of attempts left 7\n",
            "Make a guess: 10\n",
            "Too high.\n",
            "Number of attempts left 6\n",
            "Make a guess: 5\n",
            "Too high.\n",
            "Number of attempts left 5\n",
            "Make a guess: 2\n",
            "Yay! thats a correct guess\n",
            "\n",
            "\n",
            "     ___       _______   __    ______        _______.\n",
            "    /   \\     |       \\ |  |  /  __  \\      /       |\n",
            "   /  ^  \\    |  .--.  ||  | |  |  |  |    |   (----`\n",
            "  /  /_\\  \\   |  |  |  ||  | |  |  |  |     \\   \\    \n",
            " /  _____  \\  |  '--'  ||  | |  `--'  | .----)   |   \n",
            "/__/     \\__\\ |_______/ |__|  \\______/  |_______/    \n",
            "                                                     \n",
            "\n",
            "\n"
          ]
        }
      ]
    },
    {
      "cell_type": "markdown",
      "metadata": {
        "id": "Z1Z6d2-vKpPr"
      },
      "source": [
        "# Debugging\n",
        "\n",
        "1. describe the problem, understand the problem correctly\n",
        "2. Reproduce the error or bug(randint gets between both num(1,6))\n",
        "3. play computer (Think you are a computer that executing the code)\n",
        "4. Fix errors\n",
        "5. use print to find errors\n",
        "6. Use Debugger\n",
        "7. Take a break\n",
        "8. Ask a Friend\n",
        "9. Run through code\n",
        "10. Stackoverflow"
      ]
    },
    {
      "cell_type": "code",
      "metadata": {
        "id": "dym9fI9dQ-bL"
      },
      "source": [
        "logo = \"\"\"\n",
        "    __  ___       __             \n",
        "   / / / (_)___ _/ /_  ___  _____\n",
        "  / /_/ / / __ `/ __ \\/ _ \\/ ___/\n",
        " / __  / / /_/ / / / /  __/ /    \n",
        "/_/ ///_/\\__, /_/ /_/\\___/_/     \n",
        "   / /  /____/_      _____  _____\n",
        "  / /   / __ \\ | /| / / _ \\/ ___/\n",
        " / /___/ /_/ / |/ |/ /  __/ /    \n",
        "/_____/\\____/|__/|__/\\___/_/     \n",
        "\"\"\"\n",
        "\n",
        "vs = \"\"\"\n",
        " _    __    \n",
        "| |  / /____\n",
        "| | / / ___/\n",
        "| |/ (__  ) \n",
        "|___/____(_)\n",
        "\"\"\""
      ],
      "execution_count": 1,
      "outputs": []
    },
    {
      "cell_type": "code",
      "metadata": {
        "id": "werWc9gnE79Y"
      },
      "source": [
        "data = [\n",
        "    {\n",
        "        'name': 'Instagram',\n",
        "        'follower_count': 346,\n",
        "        'description': 'Social media platform',\n",
        "        'country': 'United States'\n",
        "    },\n",
        "    {\n",
        "        'name': 'Cristiano Ronaldo',\n",
        "        'follower_count': 215,\n",
        "        'description': 'Footballer',\n",
        "        'country': 'Portugal'\n",
        "    },\n",
        "    {\n",
        "        'name': 'Ariana Grande',\n",
        "        'follower_count': 183,\n",
        "        'description': 'Musician and actress',\n",
        "        'country': 'United States'\n",
        "    },\n",
        "    {\n",
        "        'name': 'Dwayne Johnson',\n",
        "        'follower_count': 181,\n",
        "        'description': 'Actor and professional wrestler',\n",
        "        'country': 'United States'\n",
        "    },\n",
        "    {\n",
        "        'name': 'Selena Gomez',\n",
        "        'follower_count': 174,\n",
        "        'description': 'Musician and actress',\n",
        "        'country': 'United States'\n",
        "    },\n",
        "    {\n",
        "        'name': 'Kylie Jenner',\n",
        "        'follower_count': 172,\n",
        "        'description': 'Reality TV personality and businesswoman and Self-Made Billionaire',\n",
        "        'country': 'United States'\n",
        "    },\n",
        "    {\n",
        "        'name': 'Kim Kardashian',\n",
        "        'follower_count': 167,\n",
        "        'description': 'Reality TV personality and businesswoman',\n",
        "        'country': 'United States'\n",
        "    },\n",
        "    {\n",
        "        'name': 'Lionel Messi',\n",
        "        'follower_count': 149,\n",
        "        'description': 'Footballer',\n",
        "        'country': 'Argentina'\n",
        "    },\n",
        "    {\n",
        "        'name': 'Beyoncé',\n",
        "        'follower_count': 145,\n",
        "        'description': 'Musician',\n",
        "        'country': 'United States'\n",
        "    },\n",
        "    {\n",
        "        'name': 'Neymar',\n",
        "        'follower_count': 138,\n",
        "        'description': 'Footballer',\n",
        "        'country': 'Brasil'\n",
        "    },\n",
        "    {\n",
        "        'name': 'National Geographic',\n",
        "        'follower_count': 135,\n",
        "        'description': 'Magazine',\n",
        "        'country': 'United States'\n",
        "    },\n",
        "    {\n",
        "        'name': 'Justin Bieber',\n",
        "        'follower_count': 133,\n",
        "        'description': 'Musician',\n",
        "        'country': 'Canada'\n",
        "    },\n",
        "    {\n",
        "        'name': 'Taylor Swift',\n",
        "        'follower_count': 131,\n",
        "        'description': 'Musician',\n",
        "        'country': 'United States'\n",
        "    },\n",
        "    {\n",
        "        'name': 'Kendall Jenner',\n",
        "        'follower_count': 127,\n",
        "        'description': 'Reality TV personality and Model',\n",
        "        'country': 'United States'\n",
        "    },\n",
        "    {\n",
        "        'name': 'Jennifer Lopez',\n",
        "        'follower_count': 119,\n",
        "        'description': 'Musician and actress',\n",
        "        'country': 'United States'\n",
        "    },\n",
        "    {\n",
        "        'name': 'Nicki Minaj',\n",
        "        'follower_count': 113,\n",
        "        'description': 'Musician',\n",
        "        'country': 'Trinidad and Tobago'\n",
        "    },\n",
        "    {\n",
        "        'name': 'Nike',\n",
        "        'follower_count': 109,\n",
        "        'description': 'Sportswear multinational',\n",
        "        'country': 'United States'\n",
        "    },\n",
        "    {\n",
        "        'name': 'Khloé Kardashian',\n",
        "        'follower_count': 108,\n",
        "        'description': 'Reality TV personality and businesswoman',\n",
        "        'country': 'United States'\n",
        "    },\n",
        "    {\n",
        "        'name': 'Miley Cyrus',\n",
        "        'follower_count': 107,\n",
        "        'description': 'Musician and actress',\n",
        "        'country': 'United States'\n",
        "    },\n",
        "    {\n",
        "        'name': 'Katy Perry',\n",
        "        'follower_count': 94,\n",
        "        'description': 'Musician',\n",
        "        'country': 'United States'\n",
        "    },\n",
        "    {\n",
        "        'name': 'Kourtney Kardashian',\n",
        "        'follower_count': 90,\n",
        "        'description': 'Reality TV personality',\n",
        "        'country': 'United States'\n",
        "    },\n",
        "    {\n",
        "        'name': 'Kevin Hart',\n",
        "        'follower_count': 89,\n",
        "        'description': 'Comedian and actor',\n",
        "        'country': 'United States'\n",
        "    },\n",
        "    {\n",
        "        'name': 'Ellen DeGeneres',\n",
        "        'follower_count': 87,\n",
        "        'description': 'Comedian',\n",
        "        'country': 'United States'\n",
        "    },\n",
        "    {\n",
        "        'name': 'Real Madrid CF',\n",
        "        'follower_count': 86,\n",
        "        'description': 'Football club',\n",
        "        'country': 'Spain'\n",
        "    },\n",
        "    {\n",
        "        'name': 'FC Barcelona',\n",
        "        'follower_count': 85,\n",
        "        'description': 'Football club',\n",
        "        'country': 'Spain'\n",
        "    },\n",
        "    {\n",
        "        'name': 'Rihanna',\n",
        "        'follower_count': 81,\n",
        "        'description': 'Musician and businesswoman',\n",
        "        'country': 'Barbados'\n",
        "    },\n",
        "    {\n",
        "        'name': 'Demi Lovato',\n",
        "        'follower_count': 80,\n",
        "        'description': 'Musician and actress',\n",
        "        'country': 'United States'\n",
        "    },\n",
        "    {\n",
        "        'name': \"Victoria's Secret\",\n",
        "        'follower_count': 69,\n",
        "        'description': 'Lingerie brand',\n",
        "        'country': 'United States'\n",
        "    },\n",
        "    {\n",
        "        'name': 'Zendaya',\n",
        "        'follower_count': 68,\n",
        "        'description': 'Actress and musician',\n",
        "        'country': 'United States'\n",
        "    },\n",
        "    {\n",
        "        'name': 'Shakira',\n",
        "        'follower_count': 66,\n",
        "        'description': 'Musician',\n",
        "        'country': 'Colombia'\n",
        "    },\n",
        "    {\n",
        "        'name': 'Drake',\n",
        "        'follower_count': 65,\n",
        "        'description': 'Musician',\n",
        "        'country': 'Canada'\n",
        "    },\n",
        "    {\n",
        "        'name': 'Chris Brown',\n",
        "        'follower_count': 64,\n",
        "        'description': 'Musician',\n",
        "        'country': 'United States'\n",
        "    },\n",
        "    {\n",
        "        'name': 'LeBron James',\n",
        "        'follower_count': 63,\n",
        "        'description': 'Basketball player',\n",
        "        'country': 'United States'\n",
        "    },\n",
        "    {\n",
        "        'name': 'Vin Diesel',\n",
        "        'follower_count': 62,\n",
        "        'description': 'Actor',\n",
        "        'country': 'United States'\n",
        "    },\n",
        "    {\n",
        "        'name': 'Cardi B',\n",
        "        'follower_count': 63,\n",
        "        'description': 'Musician',\n",
        "        'country': 'United States'\n",
        "    },\n",
        "    {\n",
        "        'name': 'David Beckham',\n",
        "        'follower_count': 62,\n",
        "        'description': 'Footballer',\n",
        "        'country': 'United Kingdom'\n",
        "    },\n",
        "    {\n",
        "        'name': 'Billie Eilish',\n",
        "        'follower_count': 61,\n",
        "        'description': 'Musician',\n",
        "        'country': 'United States'\n",
        "    },\n",
        "    {\n",
        "        'name': 'Justin Timberlake',\n",
        "        'follower_count': 58,\n",
        "        'description': 'Musician and actor',\n",
        "        'country': 'United States'\n",
        "    },\n",
        "    {\n",
        "        'name': 'UEFA Champions League',\n",
        "        'follower_count': 58,\n",
        "        'description': 'Club football competition',\n",
        "        'country': 'Europe'\n",
        "    },\n",
        "    {\n",
        "        'name': 'NASA',\n",
        "        'follower_count': 56,\n",
        "        'description': 'Space agency',\n",
        "        'country': 'United States'\n",
        "    },\n",
        "    {\n",
        "        'name': 'Emma Watson',\n",
        "        'follower_count': 56,\n",
        "        'description': 'Actress',\n",
        "        'country': 'United Kingdom'\n",
        "    },\n",
        "    {\n",
        "        'name': 'Shawn Mendes',\n",
        "        'follower_count': 56,\n",
        "        'description': 'Musician',\n",
        "        'country': 'Canada'\n",
        "    },\n",
        "    {\n",
        "        'name': 'Virat Kohli',\n",
        "        'follower_count': 55,\n",
        "        'description': 'Cricketer',\n",
        "        'country': 'India'\n",
        "    },\n",
        "    {\n",
        "        'name': 'Gigi Hadid',\n",
        "        'follower_count': 52,\n",
        "        'description': 'Model',\n",
        "        'country': 'United States'\n",
        "    },\n",
        "    {\n",
        "        'name': 'Priyanka Chopra Jonas',\n",
        "        'follower_count': 52,\n",
        "        'description': 'Actress and musician',\n",
        "        'country': 'India'\n",
        "    },\n",
        "    {\n",
        "        'name': '9GAG',\n",
        "        'follower_count': 52,\n",
        "        'description': 'Social media platform',\n",
        "        'country': 'China'\n",
        "    },\n",
        "    {\n",
        "        'name': 'Ronaldinho',\n",
        "        'follower_count': 51,\n",
        "        'description': 'Footballer',\n",
        "        'country': 'Brasil'\n",
        "    },\n",
        "    {\n",
        "        'name': 'Maluma',\n",
        "        'follower_count': 50,\n",
        "        'description': 'Musician',\n",
        "        'country': 'Colombia'\n",
        "    },\n",
        "    {\n",
        "        'name': 'Camila Cabello',\n",
        "        'follower_count': 49,\n",
        "        'description': 'Musician',\n",
        "        'country': 'Cuba'\n",
        "    },\n",
        "    {\n",
        "        'name': 'NBA',\n",
        "        'follower_count': 47,\n",
        "        'description': 'Club Basketball Competition',\n",
        "        'country': 'United States'\n",
        "    }\n",
        "]"
      ],
      "execution_count": 2,
      "outputs": []
    },
    {
      "cell_type": "code",
      "metadata": {
        "colab": {
          "base_uri": "https://localhost:8080/"
        },
        "id": "Rj9H0OStFmZ0",
        "outputId": "8306c2ad-4fc1-411c-cb47-8a9d579be421"
      },
      "source": [
        "import random\n",
        "current_score = 0\n",
        "# for i in range(len(data)):\n",
        "#   user1=data[i]\n",
        "#   user2 = data[i+1]\n",
        "#   for key in user1:\n",
        "#     if key == score:\n",
        "#       user_score1 = user1[key]\n",
        "#   for key2 in user2:\n",
        "#     if key2 == score:\n",
        "#       user_score2 = user2[key2]    \n",
        "print(logo)\n",
        "for i in data:\n",
        "  print(i)\n",
        "\n",
        "def account1(user_account):\n",
        "  name = user_account['name']\n",
        "  followers = user_account['follower_count']\n",
        "  platform = user_account['description']\n",
        "  country = user_account['country']\n",
        "  return  followers \n",
        "\n",
        "def account2(user_account):\n",
        "  name = user_account['name']\n",
        "  followers = user_account['follower_count']\n",
        "  platform = user_account['description']\n",
        "  country = user_account['country']\n",
        "  return  followers   \n",
        "  \n",
        "def compare():\n",
        "  count = random.choice(data)\n",
        "  person1 = account1(count)\n",
        "  person2 = account2(random.choice(data)) \n",
        "  if person1 > person2:\n",
        "    return 'a is greater'\n",
        "  else:\n",
        "    return 'b is greater'  \n",
        "    "
      ],
      "execution_count": 20,
      "outputs": [
        {
          "output_type": "stream",
          "name": "stdout",
          "text": [
            "\n",
            "    __  ___       __             \n",
            "   / / / (_)___ _/ /_  ___  _____\n",
            "  / /_/ / / __ `/ __ \\/ _ \\/ ___/\n",
            " / __  / / /_/ / / / /  __/ /    \n",
            "/_/ ///_/\\__, /_/ /_/\\___/_/     \n",
            "   / /  /____/_      _____  _____\n",
            "  / /   / __ \\ | /| / / _ \\/ ___/\n",
            " / /___/ /_/ / |/ |/ /  __/ /    \n",
            "/_____/\\____/|__/|__/\\___/_/     \n",
            "\n",
            "{'name': 'Instagram', 'follower_count': 346, 'description': 'Social media platform', 'country': 'United States'}\n",
            "{'name': 'Cristiano Ronaldo', 'follower_count': 215, 'description': 'Footballer', 'country': 'Portugal'}\n",
            "{'name': 'Ariana Grande', 'follower_count': 183, 'description': 'Musician and actress', 'country': 'United States'}\n",
            "{'name': 'Dwayne Johnson', 'follower_count': 181, 'description': 'Actor and professional wrestler', 'country': 'United States'}\n",
            "{'name': 'Selena Gomez', 'follower_count': 174, 'description': 'Musician and actress', 'country': 'United States'}\n",
            "{'name': 'Kylie Jenner', 'follower_count': 172, 'description': 'Reality TV personality and businesswoman and Self-Made Billionaire', 'country': 'United States'}\n",
            "{'name': 'Kim Kardashian', 'follower_count': 167, 'description': 'Reality TV personality and businesswoman', 'country': 'United States'}\n",
            "{'name': 'Lionel Messi', 'follower_count': 149, 'description': 'Footballer', 'country': 'Argentina'}\n",
            "{'name': 'Beyoncé', 'follower_count': 145, 'description': 'Musician', 'country': 'United States'}\n",
            "{'name': 'Neymar', 'follower_count': 138, 'description': 'Footballer', 'country': 'Brasil'}\n",
            "{'name': 'National Geographic', 'follower_count': 135, 'description': 'Magazine', 'country': 'United States'}\n",
            "{'name': 'Justin Bieber', 'follower_count': 133, 'description': 'Musician', 'country': 'Canada'}\n",
            "{'name': 'Taylor Swift', 'follower_count': 131, 'description': 'Musician', 'country': 'United States'}\n",
            "{'name': 'Kendall Jenner', 'follower_count': 127, 'description': 'Reality TV personality and Model', 'country': 'United States'}\n",
            "{'name': 'Jennifer Lopez', 'follower_count': 119, 'description': 'Musician and actress', 'country': 'United States'}\n",
            "{'name': 'Nicki Minaj', 'follower_count': 113, 'description': 'Musician', 'country': 'Trinidad and Tobago'}\n",
            "{'name': 'Nike', 'follower_count': 109, 'description': 'Sportswear multinational', 'country': 'United States'}\n",
            "{'name': 'Khloé Kardashian', 'follower_count': 108, 'description': 'Reality TV personality and businesswoman', 'country': 'United States'}\n",
            "{'name': 'Miley Cyrus', 'follower_count': 107, 'description': 'Musician and actress', 'country': 'United States'}\n",
            "{'name': 'Katy Perry', 'follower_count': 94, 'description': 'Musician', 'country': 'United States'}\n",
            "{'name': 'Kourtney Kardashian', 'follower_count': 90, 'description': 'Reality TV personality', 'country': 'United States'}\n",
            "{'name': 'Kevin Hart', 'follower_count': 89, 'description': 'Comedian and actor', 'country': 'United States'}\n",
            "{'name': 'Ellen DeGeneres', 'follower_count': 87, 'description': 'Comedian', 'country': 'United States'}\n",
            "{'name': 'Real Madrid CF', 'follower_count': 86, 'description': 'Football club', 'country': 'Spain'}\n",
            "{'name': 'FC Barcelona', 'follower_count': 85, 'description': 'Football club', 'country': 'Spain'}\n",
            "{'name': 'Rihanna', 'follower_count': 81, 'description': 'Musician and businesswoman', 'country': 'Barbados'}\n",
            "{'name': 'Demi Lovato', 'follower_count': 80, 'description': 'Musician and actress', 'country': 'United States'}\n",
            "{'name': \"Victoria's Secret\", 'follower_count': 69, 'description': 'Lingerie brand', 'country': 'United States'}\n",
            "{'name': 'Zendaya', 'follower_count': 68, 'description': 'Actress and musician', 'country': 'United States'}\n",
            "{'name': 'Shakira', 'follower_count': 66, 'description': 'Musician', 'country': 'Colombia'}\n",
            "{'name': 'Drake', 'follower_count': 65, 'description': 'Musician', 'country': 'Canada'}\n",
            "{'name': 'Chris Brown', 'follower_count': 64, 'description': 'Musician', 'country': 'United States'}\n",
            "{'name': 'LeBron James', 'follower_count': 63, 'description': 'Basketball player', 'country': 'United States'}\n",
            "{'name': 'Vin Diesel', 'follower_count': 62, 'description': 'Actor', 'country': 'United States'}\n",
            "{'name': 'Cardi B', 'follower_count': 63, 'description': 'Musician', 'country': 'United States'}\n",
            "{'name': 'David Beckham', 'follower_count': 62, 'description': 'Footballer', 'country': 'United Kingdom'}\n",
            "{'name': 'Billie Eilish', 'follower_count': 61, 'description': 'Musician', 'country': 'United States'}\n",
            "{'name': 'Justin Timberlake', 'follower_count': 58, 'description': 'Musician and actor', 'country': 'United States'}\n",
            "{'name': 'UEFA Champions League', 'follower_count': 58, 'description': 'Club football competition', 'country': 'Europe'}\n",
            "{'name': 'NASA', 'follower_count': 56, 'description': 'Space agency', 'country': 'United States'}\n",
            "{'name': 'Emma Watson', 'follower_count': 56, 'description': 'Actress', 'country': 'United Kingdom'}\n",
            "{'name': 'Shawn Mendes', 'follower_count': 56, 'description': 'Musician', 'country': 'Canada'}\n",
            "{'name': 'Virat Kohli', 'follower_count': 55, 'description': 'Cricketer', 'country': 'India'}\n",
            "{'name': 'Gigi Hadid', 'follower_count': 52, 'description': 'Model', 'country': 'United States'}\n",
            "{'name': 'Priyanka Chopra Jonas', 'follower_count': 52, 'description': 'Actress and musician', 'country': 'India'}\n",
            "{'name': '9GAG', 'follower_count': 52, 'description': 'Social media platform', 'country': 'China'}\n",
            "{'name': 'Ronaldinho', 'follower_count': 51, 'description': 'Footballer', 'country': 'Brasil'}\n",
            "{'name': 'Maluma', 'follower_count': 50, 'description': 'Musician', 'country': 'Colombia'}\n",
            "{'name': 'Camila Cabello', 'follower_count': 49, 'description': 'Musician', 'country': 'Cuba'}\n",
            "{'name': 'NBA', 'follower_count': 47, 'description': 'Club Basketball Competition', 'country': 'United States'}\n"
          ]
        }
      ]
    },
    {
      "cell_type": "code",
      "metadata": {
        "colab": {
          "base_uri": "https://localhost:8080/"
        },
        "id": "oV9ZtORZF0kP",
        "outputId": "adccee42-5051-4067-eb70-12189d76d30b"
      },
      "source": [
        "account1({'name': 'Instagram', 'follower_count': 346, 'description': 'Social media platform', 'country': 'United States'})"
      ],
      "execution_count": 17,
      "outputs": [
        {
          "output_type": "execute_result",
          "data": {
            "text/plain": [
              "('Instagram', 346)"
            ]
          },
          "metadata": {},
          "execution_count": 17
        }
      ]
    },
    {
      "cell_type": "code",
      "metadata": {
        "colab": {
          "base_uri": "https://localhost:8080/",
          "height": 35
        },
        "id": "HJgc_8F-NGsD",
        "outputId": "f052f06c-d6aa-42be-ab26-c3b895e3478f"
      },
      "source": [
        "compare()"
      ],
      "execution_count": 21,
      "outputs": [
        {
          "output_type": "execute_result",
          "data": {
            "application/vnd.google.colaboratory.intrinsic+json": {
              "type": "string"
            },
            "text/plain": [
              "'a is greater'"
            ]
          },
          "metadata": {},
          "execution_count": 21
        }
      ]
    },
    {
      "cell_type": "code",
      "metadata": {
        "colab": {
          "base_uri": "https://localhost:8080/"
        },
        "id": "l47xW8AXQi9l",
        "outputId": "04395b9a-bb00-421d-daa0-ad518d42ed22"
      },
      "source": [
        "import random\n",
        "from os import system, name\n",
        "# from replit import clear\n",
        "\n",
        "def format_data(account):\n",
        "  \"\"\"Takes the account data and returns the printable format.\"\"\"\n",
        "  account_name = account[\"name\"]\n",
        "  account_descr = account[\"description\"]\n",
        "  account_country = account[\"country\"]\n",
        "  return f\"{account_name}, a {account_descr}, from {account_country}\"\n",
        "\n",
        "def check_answer(guess, a_followers, b_followers):\n",
        "  \"\"\"Take the user guess and follower counts and returns if they got it right.\"\"\"\n",
        "  if a_followers > b_followers:\n",
        "    return guess == \"a\"\n",
        "  else:\n",
        "    return guess == \"b\"\n",
        "\n",
        "def clear():\n",
        "  \n",
        "    # for windows\n",
        "    if name == 'nt':\n",
        "        _ = system('cls')\n",
        "  \n",
        "    # for mac and linux(here, os.name is 'posix')\n",
        "    else:\n",
        "        _ = system('clear')\n",
        "# Display art\n",
        "print(logo)\n",
        "score = 0\n",
        "game_should_continue = True\n",
        "# Generate a random account from the game data.\n",
        "account_b = random.choice(data)\n",
        "\n",
        "# Make the game repeatable.\n",
        "while game_should_continue:\n",
        "\n",
        "  # Making account at position B become the next account at position A.\n",
        "  account_a = account_b\n",
        "  account_b = random.choice(data)\n",
        "\n",
        "  if account_a == account_b:\n",
        "    account_b = random.choice(data)\n",
        "\n",
        "  print(f\"Compare A: {format_data(account_a)}.\")\n",
        "  print(vs)\n",
        "  print(f\"Against B: {format_data(account_b)}.\")\n",
        "\n",
        "  # Ask user for a guess.\n",
        "  guess = input(\"Who has more followers? Type 'A' or 'B': \").lower()\n",
        "\n",
        "  # Check if user is correct.\n",
        "  ## Get follower count of each account.\n",
        "  a_follower_count = account_a[\"follower_count\"]\n",
        "  b_follower_count = account_b[\"follower_count\"]\n",
        "  is_correct = check_answer(guess, a_follower_count, b_follower_count)\n",
        "\n",
        "  # Clear the screen between rounds.\n",
        "  clear()\n",
        "  print(logo)\n",
        "  \n",
        "  # Give user feedback on their guess.\n",
        "  # Score keeping.\n",
        "  if is_correct:\n",
        "    score += 1\n",
        "    print(f\"You're right! Current score: {score}.\")\n",
        "  else:\n",
        "    game_should_continue = False\n",
        "    print(f\"Sorry, that's wrong. Final score: {score}.\")"
      ],
      "execution_count": 24,
      "outputs": [
        {
          "output_type": "stream",
          "name": "stdout",
          "text": [
            "\n",
            "    __  ___       __             \n",
            "   / / / (_)___ _/ /_  ___  _____\n",
            "  / /_/ / / __ `/ __ \\/ _ \\/ ___/\n",
            " / __  / / /_/ / / / /  __/ /    \n",
            "/_/ ///_/\\__, /_/ /_/\\___/_/     \n",
            "   / /  /____/_      _____  _____\n",
            "  / /   / __ \\ | /| / / _ \\/ ___/\n",
            " / /___/ /_/ / |/ |/ /  __/ /    \n",
            "/_____/\\____/|__/|__/\\___/_/     \n",
            "\n",
            "Compare A: Justin Bieber, a Musician, from Canada.\n",
            "\n",
            " _    __    \n",
            "| |  / /____\n",
            "| | / / ___/\n",
            "| |/ (__  ) \n",
            "|___/____(_)\n",
            "\n",
            "Against B: Nike, a Sportswear multinational, from United States.\n",
            "Who has more followers? Type 'A' or 'B': A\n",
            "\n",
            "    __  ___       __             \n",
            "   / / / (_)___ _/ /_  ___  _____\n",
            "  / /_/ / / __ `/ __ \\/ _ \\/ ___/\n",
            " / __  / / /_/ / / / /  __/ /    \n",
            "/_/ ///_/\\__, /_/ /_/\\___/_/     \n",
            "   / /  /____/_      _____  _____\n",
            "  / /   / __ \\ | /| / / _ \\/ ___/\n",
            " / /___/ /_/ / |/ |/ /  __/ /    \n",
            "/_____/\\____/|__/|__/\\___/_/     \n",
            "\n",
            "You're right! Current score: 1.\n",
            "Compare A: Nike, a Sportswear multinational, from United States.\n",
            "\n",
            " _    __    \n",
            "| |  / /____\n",
            "| | / / ___/\n",
            "| |/ (__  ) \n",
            "|___/____(_)\n",
            "\n",
            "Against B: Shakira, a Musician, from Colombia.\n",
            "Who has more followers? Type 'A' or 'B': B\n",
            "\n",
            "    __  ___       __             \n",
            "   / / / (_)___ _/ /_  ___  _____\n",
            "  / /_/ / / __ `/ __ \\/ _ \\/ ___/\n",
            " / __  / / /_/ / / / /  __/ /    \n",
            "/_/ ///_/\\__, /_/ /_/\\___/_/     \n",
            "   / /  /____/_      _____  _____\n",
            "  / /   / __ \\ | /| / / _ \\/ ___/\n",
            " / /___/ /_/ / |/ |/ /  __/ /    \n",
            "/_____/\\____/|__/|__/\\___/_/     \n",
            "\n",
            "Sorry, that's wrong. Final score: 1.\n"
          ]
        }
      ]
    }
  ]
}