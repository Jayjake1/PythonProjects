{
  "nbformat": 4,
  "nbformat_minor": 0,
  "metadata": {
    "colab": {
      "name": "Exception_handling.ipynb",
      "provenance": [],
      "collapsed_sections": []
    },
    "kernelspec": {
      "name": "python3",
      "display_name": "Python 3"
    },
    "language_info": {
      "name": "python"
    }
  },
  "cells": [
    {
      "cell_type": "markdown",
      "source": [
        "# Exception Handling\n",
        "\n",
        "- When things can go wrong --\n",
        "1. y/0 - division by zero error - ZeroDivisionError\n",
        "2. int(s) - string conversion error(cant convert string to int)\n",
        "3. 4*x - when there is no x-value - NameError\n",
        "4. l[i] - not a valid index - IndexError\n",
        "5. reading and writing to file"
      ],
      "metadata": {
        "id": "o0hw4Bf_mUhu"
      }
    },
    {
      "cell_type": "markdown",
      "source": [
        "> Predictable error --> Exception\n",
        "\n",
        "> Plan to stop error --> Exception Handling"
      ],
      "metadata": {
        "id": "vJf8TBqenO3G"
      }
    },
    {
      "cell_type": "code",
      "execution_count": 1,
      "metadata": {
        "colab": {
          "base_uri": "https://localhost:8080/",
          "height": 131
        },
        "id": "ShkICG8bmNu8",
        "outputId": "439089ae-cedc-4f92-87ca-49dfbf369ebd"
      },
      "outputs": [
        {
          "output_type": "error",
          "ename": "SyntaxError",
          "evalue": "ignored",
          "traceback": [
            "\u001b[0;36m  File \u001b[0;32m\"<ipython-input-1-0854150aff6c>\"\u001b[0;36m, line \u001b[0;32m1\u001b[0m\n\u001b[0;31m    x[5;4]\u001b[0m\n\u001b[0m       ^\u001b[0m\n\u001b[0;31mSyntaxError\u001b[0m\u001b[0;31m:\u001b[0m invalid syntax\n"
          ]
        }
      ],
      "source": [
        "x[5;4] # this can't be handled, should take care of it"
      ]
    },
    {
      "cell_type": "markdown",
      "source": [
        "1. Raise an exception\n",
        "2. Handle an exception\n",
        "\n",
        "unhandled exceptions aborts the operation"
      ],
      "metadata": {
        "id": "Bw90RC8GrWHI"
      }
    },
    {
      "cell_type": "code",
      "source": [
        "try:\n",
        "  # for checking error causing expression\n",
        "except IndexError:\n",
        "  # for handling specific exception\n",
        "except (IndexError, ZeroDivisionError):\n",
        "  # for handling multiple exceptions\n",
        "except:\n",
        "  # catch all other\n",
        "else:\n",
        "  # execute if try terminates normally        "
      ],
      "metadata": {
        "id": "xhVkqypxnq2V"
      },
      "execution_count": null,
      "outputs": []
    },
    {
      "cell_type": "markdown",
      "source": [
        "## traditional vs try-except approach"
      ],
      "metadata": {
        "id": "vf3_Qly5sjhM"
      }
    },
    {
      "cell_type": "code",
      "source": [
        "if b in score.keys():\n",
        "  score[b].append(s)\n",
        "else:\n",
        "  score[b]=[s]  "
      ],
      "metadata": {
        "id": "G-__VIhWtW-B"
      },
      "execution_count": null,
      "outputs": []
    },
    {
      "cell_type": "code",
      "source": [
        "try:\n",
        "  score[b].append(s)\n",
        "except KeyError:\n",
        "  score[b]=[s]  "
      ],
      "metadata": {
        "id": "l7SF8Twltnm_"
      },
      "execution_count": null,
      "outputs": []
    }
  ]
}