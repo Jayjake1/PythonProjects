{
  "nbformat": 4,
  "nbformat_minor": 0,
  "metadata": {
    "colab": {
      "name": "Exception_handling,FileOps,String,IO,passDel.ipynb",
      "provenance": [],
      "collapsed_sections": []
    },
    "kernelspec": {
      "name": "python3",
      "display_name": "Python 3"
    },
    "language_info": {
      "name": "python"
    }
  },
  "cells": [
    {
      "cell_type": "markdown",
      "source": [
        "# Exception Handling\n",
        "\n",
        "- When things can go wrong --\n",
        "1. y/0 - division by zero error - ZeroDivisionError\n",
        "2. int(s) - string conversion error(cant convert string to int)\n",
        "3. 4*x - when there is no x-value - NameError\n",
        "4. l[i] - not a valid index - IndexError\n",
        "5. reading and writing to file"
      ],
      "metadata": {
        "id": "o0hw4Bf_mUhu"
      }
    },
    {
      "cell_type": "markdown",
      "source": [
        "> Predictable error --> Exception\n",
        "\n",
        "> Plan to stop error --> Exception Handling"
      ],
      "metadata": {
        "id": "vJf8TBqenO3G"
      }
    },
    {
      "cell_type": "code",
      "execution_count": null,
      "metadata": {
        "colab": {
          "base_uri": "https://localhost:8080/",
          "height": 131
        },
        "id": "ShkICG8bmNu8",
        "outputId": "439089ae-cedc-4f92-87ca-49dfbf369ebd"
      },
      "outputs": [
        {
          "output_type": "error",
          "ename": "SyntaxError",
          "evalue": "ignored",
          "traceback": [
            "\u001b[0;36m  File \u001b[0;32m\"<ipython-input-1-0854150aff6c>\"\u001b[0;36m, line \u001b[0;32m1\u001b[0m\n\u001b[0;31m    x[5;4]\u001b[0m\n\u001b[0m       ^\u001b[0m\n\u001b[0;31mSyntaxError\u001b[0m\u001b[0;31m:\u001b[0m invalid syntax\n"
          ]
        }
      ],
      "source": [
        "x[5;4] # this can't be handled, should take care of it"
      ]
    },
    {
      "cell_type": "markdown",
      "source": [
        "1. Raise an exception\n",
        "2. Handle an exception\n",
        "\n",
        "unhandled exceptions aborts the operation"
      ],
      "metadata": {
        "id": "Bw90RC8GrWHI"
      }
    },
    {
      "cell_type": "code",
      "source": [
        "try:\n",
        "  # for checking error causing expression\n",
        "except IndexError:\n",
        "  # for handling specific exception\n",
        "except (IndexError, ZeroDivisionError):\n",
        "  # for handling multiple exceptions\n",
        "except:\n",
        "  # catch all other\n",
        "else:\n",
        "  # execute if try terminates normally        "
      ],
      "metadata": {
        "id": "xhVkqypxnq2V"
      },
      "execution_count": null,
      "outputs": []
    },
    {
      "cell_type": "markdown",
      "source": [
        "## traditional vs try-except approach"
      ],
      "metadata": {
        "id": "vf3_Qly5sjhM"
      }
    },
    {
      "cell_type": "code",
      "source": [
        "if b in score.keys():\n",
        "  score[b].append(s)\n",
        "else:\n",
        "  score[b]=[s]  "
      ],
      "metadata": {
        "id": "G-__VIhWtW-B"
      },
      "execution_count": null,
      "outputs": []
    },
    {
      "cell_type": "code",
      "source": [
        "try:\n",
        "  score[b].append(s)\n",
        "except KeyError:\n",
        "  score[b]=[s]  "
      ],
      "metadata": {
        "id": "l7SF8Twltnm_"
      },
      "execution_count": null,
      "outputs": []
    },
    {
      "cell_type": "markdown",
      "source": [
        "# Standard input and output\n",
        "\n",
        "- Keyboard is a standard input\n",
        "- display is standard output"
      ],
      "metadata": {
        "id": "SsgesLPEWNKo"
      }
    },
    {
      "cell_type": "code",
      "source": [
        "user = input() # gets the input from the user\n",
        "# data from input() function is always a string"
      ],
      "metadata": {
        "colab": {
          "base_uri": "https://localhost:8080/"
        },
        "id": "cwLfnpOdXC0q",
        "outputId": "685fa9ee-40bb-4cc2-8e87-c121c42ed230"
      },
      "execution_count": 2,
      "outputs": [
        {
          "name": "stdout",
          "output_type": "stream",
          "text": [
            "sds\n"
          ]
        }
      ]
    },
    {
      "cell_type": "code",
      "source": [
        "user = input('Please provide an input: ') # A better a giving input than previous one"
      ],
      "metadata": {
        "colab": {
          "base_uri": "https://localhost:8080/"
        },
        "id": "vucCyFWNXJcN",
        "outputId": "292069b7-0a26-4cd1-85cd-ab4db6e52527"
      },
      "execution_count": 3,
      "outputs": [
        {
          "name": "stdout",
          "output_type": "stream",
          "text": [
            "Please provide an input: asdas\n"
          ]
        }
      ]
    },
    {
      "cell_type": "code",
      "source": [
        "user = input('The user in data: \\n') # takes input where \\n gives cursor to next line"
      ],
      "metadata": {
        "colab": {
          "base_uri": "https://localhost:8080/"
        },
        "id": "XEAApEYxXlL2",
        "outputId": "a8ecd3cf-8e1a-4ac7-cbf7-e7f8f50fcd73"
      },
      "execution_count": 4,
      "outputs": [
        {
          "name": "stdout",
          "output_type": "stream",
          "text": [
            "The user in data: \n",
            "asdas\n"
          ]
        }
      ]
    },
    {
      "cell_type": "code",
      "source": [
        "user = int(input('The input: '))  # type casting input because input standard form is string "
      ],
      "metadata": {
        "colab": {
          "base_uri": "https://localhost:8080/"
        },
        "id": "t12Km6fyX5Fr",
        "outputId": "b17ba685-c72b-4e19-a8f8-dff1ac7b9e7d"
      },
      "execution_count": 5,
      "outputs": [
        {
          "name": "stdout",
          "output_type": "stream",
          "text": [
            "The input: 123\n"
          ]
        }
      ]
    },
    {
      "cell_type": "code",
      "source": [
        "user = int(input('The input: ')) "
      ],
      "metadata": {
        "colab": {
          "base_uri": "https://localhost:8080/",
          "height": 183
        },
        "id": "49ZTTM_aYSnK",
        "outputId": "83f541e7-88bf-4144-e6d0-7d8d7843bcb2"
      },
      "execution_count": 6,
      "outputs": [
        {
          "name": "stdout",
          "output_type": "stream",
          "text": [
            "The input: sdf\n"
          ]
        },
        {
          "output_type": "error",
          "ename": "ValueError",
          "evalue": "ignored",
          "traceback": [
            "\u001b[0;31m---------------------------------------------------------------------------\u001b[0m",
            "\u001b[0;31mValueError\u001b[0m                                Traceback (most recent call last)",
            "\u001b[0;32m<ipython-input-6-d8368514dd4d>\u001b[0m in \u001b[0;36m<module>\u001b[0;34m()\u001b[0m\n\u001b[0;32m----> 1\u001b[0;31m \u001b[0muser\u001b[0m \u001b[0;34m=\u001b[0m \u001b[0mint\u001b[0m\u001b[0;34m(\u001b[0m\u001b[0minput\u001b[0m\u001b[0;34m(\u001b[0m\u001b[0;34m'The input: '\u001b[0m\u001b[0;34m)\u001b[0m\u001b[0;34m)\u001b[0m\u001b[0;34m\u001b[0m\u001b[0;34m\u001b[0m\u001b[0m\n\u001b[0m",
            "\u001b[0;31mValueError\u001b[0m: invalid literal for int() with base 10: 'sdf'"
          ]
        }
      ]
    },
    {
      "cell_type": "code",
      "source": [
        "while(True):   # handling input error until user gives a correct input\n",
        "  try:\n",
        "    user = int(input('The input: ')) \n",
        "  except ValueError:\n",
        "    print('The value you entered is: ',user,'Please enter a valid input')\n",
        "  else:\n",
        "    break    "
      ],
      "metadata": {
        "colab": {
          "base_uri": "https://localhost:8080/"
        },
        "id": "LOumGNf3YV6W",
        "outputId": "a9271210-bdd5-44ff-9493-155543a33547"
      },
      "execution_count": 8,
      "outputs": [
        {
          "name": "stdout",
          "output_type": "stream",
          "text": [
            "The input: wer\n",
            "The value you entered is:  123 Please enter a valid input\n",
            "The input: sddsd\n",
            "The value you entered is:  123 Please enter a valid input\n",
            "The input: 122\n"
          ]
        }
      ]
    },
    {
      "cell_type": "markdown",
      "source": [
        "<b> By default print gives output in new line </b>\n",
        "\n",
        "to handle or change this format we give** end=\" \"** space gives a space"
      ],
      "metadata": {
        "id": "JpXNGNTCZRkj"
      }
    },
    {
      "cell_type": "code",
      "source": [
        "print('The user input is', user) # comma gives a space to output"
      ],
      "metadata": {
        "colab": {
          "base_uri": "https://localhost:8080/"
        },
        "id": "zzLvPAGUY27M",
        "outputId": "23177bd8-95f5-4291-923f-ad2a7a3b8ec1"
      },
      "execution_count": 9,
      "outputs": [
        {
          "output_type": "stream",
          "name": "stdout",
          "text": [
            "The user input is 122\n"
          ]
        }
      ]
    },
    {
      "cell_type": "code",
      "source": [
        "print('The user input is', user,end=\" \")\n",
        "print('The other way input is', user)"
      ],
      "metadata": {
        "colab": {
          "base_uri": "https://localhost:8080/"
        },
        "id": "wVWqGHnPafWT",
        "outputId": "b9b9cdf7-130a-44f5-db9c-21a68ab42ca6"
      },
      "execution_count": 10,
      "outputs": [
        {
          "output_type": "stream",
          "name": "stdout",
          "text": [
            "The user input is 122 The other way input is 122\n"
          ]
        }
      ]
    },
    {
      "cell_type": "code",
      "source": [
        "print('The user input is', user, end = \" \")\n",
        "print('The other way input is', user,end=\"..\\n\")\n",
        "print('The user input is', user)\n",
        "print('The user input is', user,sep=\" \") # this removes the space given by comma, so we need to explicitly give space"
      ],
      "metadata": {
        "colab": {
          "base_uri": "https://localhost:8080/"
        },
        "id": "IeLQ4mheaonA",
        "outputId": "ed730531-0485-45a5-99e5-7c1e562172a2"
      },
      "execution_count": 11,
      "outputs": [
        {
          "output_type": "stream",
          "name": "stdout",
          "text": [
            "The user input is 122 The other way input is 122..\n",
            "The user input is 122\n",
            "The user input is 122\n"
          ]
        }
      ]
    },
    {
      "cell_type": "code",
      "source": [
        "print('The user input is', user,sep=\"\")"
      ],
      "metadata": {
        "colab": {
          "base_uri": "https://localhost:8080/"
        },
        "id": "Sf2E0q51bCfj",
        "outputId": "a4f1fbbe-81d8-4d3b-8adb-9a25412fc475"
      },
      "execution_count": 12,
      "outputs": [
        {
          "output_type": "stream",
          "name": "stdout",
          "text": [
            "The user input is122\n"
          ]
        }
      ]
    },
    {
      "cell_type": "markdown",
      "source": [
        "# File Handling\n"
      ],
      "metadata": {
        "id": "eZNifwtLoLaU"
      }
    },
    {
      "cell_type": "code",
      "source": [
        "# copying a file\n",
        "infile = open('input.txt','r')\n",
        "outfile = open('output.txt','w')\n",
        "\n",
        "for lines in infile.readlines():  # gives the \\n that ends with at specific line end, so we get an extra new line when we use print\n",
        "  outfile.write(lines)\n",
        "\n",
        "infile.close()\n",
        "outfile.close()  "
      ],
      "metadata": {
        "id": "S3CEG4qZbM8Y"
      },
      "execution_count": null,
      "outputs": []
    },
    {
      "cell_type": "code",
      "source": [
        "# copying a file\n",
        "infile = open('input.txt','r')\n",
        "outfile = open('output.txt','w')\n",
        "\n",
        "contents = infile.readlines()  # list of lines with words\n",
        "outfile.writelines(contents) # writes list of lines\n",
        "\n",
        "infile.close()\n",
        "outfile.close()"
      ],
      "metadata": {
        "id": "yayK3Shtoujj"
      },
      "execution_count": null,
      "outputs": []
    },
    {
      "cell_type": "markdown",
      "source": [
        "- If read() or readlines() returns \"\" empty string then we reached end of the file.\n",
        "\n",
        "-> files data is read in sequential manner, when a file is opened, we read it. If we want to read it again it returns ' ' because the file is read, and we are at end of the file. So if we want to read it again we should f.close() --> read again"
      ],
      "metadata": {
        "id": "dhV7_n4aqZ4N"
      }
    },
    {
      "cell_type": "markdown",
      "source": [
        "1. We interact with files as file handles will be created from disk instance.\n",
        "2. read, write and append modes\n",
        "3. read entire file as string or line by line\n",
        "4. write string or list of strings to a file.\n",
        "5. close handle, flush buffer\n",
        "6. string operations to strip white space - rstrip(), lstrip()"
      ],
      "metadata": {
        "id": "uMkeGKBesVme"
      }
    },
    {
      "cell_type": "markdown",
      "source": [
        "# String functions"
      ],
      "metadata": {
        "id": "bkSOmMnLx4hN"
      }
    },
    {
      "cell_type": "code",
      "source": [
        "s = ' brown fox jump over lazy dog '"
      ],
      "metadata": {
        "id": "LIRnqXSPqjLg"
      },
      "execution_count": 13,
      "outputs": []
    },
    {
      "cell_type": "code",
      "source": [
        "s.rstrip()"
      ],
      "metadata": {
        "colab": {
          "base_uri": "https://localhost:8080/",
          "height": 35
        },
        "id": "8l6dpvshy5bw",
        "outputId": "34f5a6d8-6fd7-4524-bf5b-d7e58cce6b68"
      },
      "execution_count": 14,
      "outputs": [
        {
          "output_type": "execute_result",
          "data": {
            "application/vnd.google.colaboratory.intrinsic+json": {
              "type": "string"
            },
            "text/plain": [
              "' brown fox jump over lazy dog'"
            ]
          },
          "metadata": {},
          "execution_count": 14
        }
      ]
    },
    {
      "cell_type": "code",
      "source": [
        "s"
      ],
      "metadata": {
        "colab": {
          "base_uri": "https://localhost:8080/",
          "height": 35
        },
        "id": "42nq8rwiy62W",
        "outputId": "65c569d9-6de6-407e-9d21-362b2626b9fd"
      },
      "execution_count": 15,
      "outputs": [
        {
          "output_type": "execute_result",
          "data": {
            "application/vnd.google.colaboratory.intrinsic+json": {
              "type": "string"
            },
            "text/plain": [
              "' brown fox jump over lazy dog '"
            ]
          },
          "metadata": {},
          "execution_count": 15
        }
      ]
    },
    {
      "cell_type": "code",
      "source": [
        "s.lstrip()"
      ],
      "metadata": {
        "colab": {
          "base_uri": "https://localhost:8080/",
          "height": 35
        },
        "id": "t5Fn6fK5y71R",
        "outputId": "6b37c30a-ba84-4abd-e7f1-ca7b9478eed3"
      },
      "execution_count": 16,
      "outputs": [
        {
          "output_type": "execute_result",
          "data": {
            "application/vnd.google.colaboratory.intrinsic+json": {
              "type": "string"
            },
            "text/plain": [
              "'brown fox jump over lazy dog '"
            ]
          },
          "metadata": {},
          "execution_count": 16
        }
      ]
    },
    {
      "cell_type": "code",
      "source": [
        "s.find('jump')"
      ],
      "metadata": {
        "colab": {
          "base_uri": "https://localhost:8080/"
        },
        "id": "H0ubrjA1zAug",
        "outputId": "2b25c006-a683-46cc-bcbf-7e80dd0d3479"
      },
      "execution_count": 18,
      "outputs": [
        {
          "output_type": "execute_result",
          "data": {
            "text/plain": [
              "11"
            ]
          },
          "metadata": {},
          "execution_count": 18
        }
      ]
    },
    {
      "cell_type": "code",
      "source": [
        "s.replace('jump','jumping') # strings are not mutable, here we just get a replaced temporary output"
      ],
      "metadata": {
        "colab": {
          "base_uri": "https://localhost:8080/",
          "height": 35
        },
        "id": "CDdUCXDlzDLx",
        "outputId": "a84872c0-05d3-48a8-8261-1e2e12a4bd5e"
      },
      "execution_count": 20,
      "outputs": [
        {
          "output_type": "execute_result",
          "data": {
            "application/vnd.google.colaboratory.intrinsic+json": {
              "type": "string"
            },
            "text/plain": [
              "' brown fox jumping over lazy dog '"
            ]
          },
          "metadata": {},
          "execution_count": 20
        }
      ]
    },
    {
      "cell_type": "code",
      "source": [
        "s.split(\" \",3) # space as a seperator, 3 is count, splits first into 3"
      ],
      "metadata": {
        "colab": {
          "base_uri": "https://localhost:8080/"
        },
        "id": "IlulnxRfzO_4",
        "outputId": "16f53086-4b05-4fb9-fa45-8df92c12df69"
      },
      "execution_count": 22,
      "outputs": [
        {
          "output_type": "execute_result",
          "data": {
            "text/plain": [
              "['', 'brown', 'fox', 'jump over lazy dog ']"
            ]
          },
          "metadata": {},
          "execution_count": 22
        }
      ]
    },
    {
      "cell_type": "markdown",
      "source": [
        "<b> Joining strings </b>"
      ],
      "metadata": {
        "id": "YFgfjL5B0GtJ"
      }
    },
    {
      "cell_type": "code",
      "source": [
        "\",\".join(s)"
      ],
      "metadata": {
        "colab": {
          "base_uri": "https://localhost:8080/",
          "height": 35
        },
        "id": "pTMiju2qzuGg",
        "outputId": "d74a540f-5ec9-4a3f-afe0-0dde8a2d54c8"
      },
      "execution_count": 23,
      "outputs": [
        {
          "output_type": "execute_result",
          "data": {
            "application/vnd.google.colaboratory.intrinsic+json": {
              "type": "string"
            },
            "text/plain": [
              "' ,b,r,o,w,n, ,f,o,x, ,j,u,m,p, ,o,v,e,r, ,l,a,z,y, ,d,o,g, '"
            ]
          },
          "metadata": {},
          "execution_count": 23
        }
      ]
    },
    {
      "cell_type": "code",
      "source": [
        "s1 = s.split()\n",
        "','.join(s1)"
      ],
      "metadata": {
        "colab": {
          "base_uri": "https://localhost:8080/",
          "height": 35
        },
        "id": "y8Fgm9op0YLN",
        "outputId": "563b77ae-f019-488f-e123-0323c7ae5959"
      },
      "execution_count": 24,
      "outputs": [
        {
          "output_type": "execute_result",
          "data": {
            "application/vnd.google.colaboratory.intrinsic+json": {
              "type": "string"
            },
            "text/plain": [
              "'brown,fox,jump,over,lazy,dog'"
            ]
          },
          "metadata": {},
          "execution_count": 24
        }
      ]
    },
    {
      "cell_type": "code",
      "source": [
        "[','.join(s1)]"
      ],
      "metadata": {
        "colab": {
          "base_uri": "https://localhost:8080/"
        },
        "id": "-xu4Tub50kzy",
        "outputId": "f3c53f3e-e3d4-4aaf-fe28-c8ed7f571e7b"
      },
      "execution_count": 25,
      "outputs": [
        {
          "output_type": "execute_result",
          "data": {
            "text/plain": [
              "['brown,fox,jump,over,lazy,dog']"
            ]
          },
          "metadata": {},
          "execution_count": 25
        }
      ]
    },
    {
      "cell_type": "code",
      "source": [
        "s.swapcase()"
      ],
      "metadata": {
        "colab": {
          "base_uri": "https://localhost:8080/",
          "height": 35
        },
        "id": "u1I9h2rt0ou3",
        "outputId": "bd2a57b3-98db-44c6-f7b1-51f1e9532f66"
      },
      "execution_count": 26,
      "outputs": [
        {
          "output_type": "execute_result",
          "data": {
            "application/vnd.google.colaboratory.intrinsic+json": {
              "type": "string"
            },
            "text/plain": [
              "' BROWN FOX JUMP OVER LAZY DOG '"
            ]
          },
          "metadata": {},
          "execution_count": 26
        }
      ]
    },
    {
      "cell_type": "code",
      "source": [
        "s.upper()"
      ],
      "metadata": {
        "colab": {
          "base_uri": "https://localhost:8080/",
          "height": 35
        },
        "id": "J3MACS3h0x-9",
        "outputId": "65dc2b46-d0e2-45cc-954b-5beac2131c2c"
      },
      "execution_count": 27,
      "outputs": [
        {
          "output_type": "execute_result",
          "data": {
            "application/vnd.google.colaboratory.intrinsic+json": {
              "type": "string"
            },
            "text/plain": [
              "' BROWN FOX JUMP OVER LAZY DOG '"
            ]
          },
          "metadata": {},
          "execution_count": 27
        }
      ]
    },
    {
      "cell_type": "code",
      "source": [
        "s.lower()"
      ],
      "metadata": {
        "colab": {
          "base_uri": "https://localhost:8080/",
          "height": 35
        },
        "id": "x2TdZRoJ0zoY",
        "outputId": "9f3eb128-04c4-4bce-dd1d-251161488c2d"
      },
      "execution_count": 28,
      "outputs": [
        {
          "output_type": "execute_result",
          "data": {
            "application/vnd.google.colaboratory.intrinsic+json": {
              "type": "string"
            },
            "text/plain": [
              "' brown fox jump over lazy dog '"
            ]
          },
          "metadata": {},
          "execution_count": 28
        }
      ]
    },
    {
      "cell_type": "code",
      "source": [
        "s.center(20,'*')"
      ],
      "metadata": {
        "colab": {
          "base_uri": "https://localhost:8080/",
          "height": 35
        },
        "id": "zduDEvlL00yT",
        "outputId": "ddc811fc-5606-404c-e013-f9e3333c211d"
      },
      "execution_count": 30,
      "outputs": [
        {
          "output_type": "execute_result",
          "data": {
            "application/vnd.google.colaboratory.intrinsic+json": {
              "type": "string"
            },
            "text/plain": [
              "' brown fox jump over lazy dog '"
            ]
          },
          "metadata": {},
          "execution_count": 30
        }
      ]
    },
    {
      "cell_type": "code",
      "source": [
        "s.center(50,'*')"
      ],
      "metadata": {
        "colab": {
          "base_uri": "https://localhost:8080/",
          "height": 35
        },
        "id": "C9UUDULU1ByN",
        "outputId": "f46d8d58-2387-48fd-ff0f-2a3f9d437544"
      },
      "execution_count": 31,
      "outputs": [
        {
          "output_type": "execute_result",
          "data": {
            "application/vnd.google.colaboratory.intrinsic+json": {
              "type": "string"
            },
            "text/plain": [
              "'********** brown fox jump over lazy dog **********'"
            ]
          },
          "metadata": {},
          "execution_count": 31
        }
      ]
    },
    {
      "cell_type": "code",
      "source": [
        "s.ljust(50,'-')"
      ],
      "metadata": {
        "colab": {
          "base_uri": "https://localhost:8080/",
          "height": 35
        },
        "id": "m7HBdIKd1N0Y",
        "outputId": "09ca369f-958e-4442-ad45-87bace001a75"
      },
      "execution_count": 32,
      "outputs": [
        {
          "output_type": "execute_result",
          "data": {
            "application/vnd.google.colaboratory.intrinsic+json": {
              "type": "string"
            },
            "text/plain": [
              "' brown fox jump over lazy dog --------------------'"
            ]
          },
          "metadata": {},
          "execution_count": 32
        }
      ]
    },
    {
      "cell_type": "code",
      "source": [
        "s.rjust(50,'-')"
      ],
      "metadata": {
        "colab": {
          "base_uri": "https://localhost:8080/",
          "height": 35
        },
        "id": "UsvvmTI71SKh",
        "outputId": "33043467-b0f6-4067-e502-d5d17828ce2e"
      },
      "execution_count": 33,
      "outputs": [
        {
          "output_type": "execute_result",
          "data": {
            "application/vnd.google.colaboratory.intrinsic+json": {
              "type": "string"
            },
            "text/plain": [
              "'-------------------- brown fox jump over lazy dog '"
            ]
          },
          "metadata": {},
          "execution_count": 33
        }
      ]
    },
    {
      "cell_type": "code",
      "source": [
        "s.isalpha()"
      ],
      "metadata": {
        "colab": {
          "base_uri": "https://localhost:8080/"
        },
        "id": "EEKvT-ht1VAD",
        "outputId": "bafed4ec-0479-430f-ece3-027790b7399e"
      },
      "execution_count": 34,
      "outputs": [
        {
          "output_type": "execute_result",
          "data": {
            "text/plain": [
              "False"
            ]
          },
          "metadata": {},
          "execution_count": 34
        }
      ]
    },
    {
      "cell_type": "code",
      "source": [
        "s.isalnum()"
      ],
      "metadata": {
        "colab": {
          "base_uri": "https://localhost:8080/"
        },
        "id": "l1MVJKQ31ZJF",
        "outputId": "29c592d6-af68-414f-ab7d-d5b2a56398d7"
      },
      "execution_count": 36,
      "outputs": [
        {
          "output_type": "execute_result",
          "data": {
            "text/plain": [
              "False"
            ]
          },
          "metadata": {},
          "execution_count": 36
        }
      ]
    },
    {
      "cell_type": "code",
      "source": [
        ""
      ],
      "metadata": {
        "id": "gOtFzb5e1a-X"
      },
      "execution_count": null,
      "outputs": []
    }
  ]
}