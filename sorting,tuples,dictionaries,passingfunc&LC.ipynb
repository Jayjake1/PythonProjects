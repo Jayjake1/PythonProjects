{
  "nbformat": 4,
  "nbformat_minor": 0,
  "metadata": {
    "colab": {
      "name": "sorting,tuples,dictionaries,passingfunc&LC.ipynb",
      "provenance": [],
      "collapsed_sections": []
    },
    "kernelspec": {
      "name": "python3",
      "display_name": "Python 3"
    },
    "language_info": {
      "name": "python"
    }
  },
  "cells": [
    {
      "cell_type": "markdown",
      "source": [
        "## Sorting \n",
        "\n",
        "- selection sort & insertion have a complexity of O(n^2)\n",
        "- O(n^2) is not feasible for computations more than 5000\n",
        "\n",
        "So to tackle all these we use other sortings, that are with less complexity..."
      ],
      "metadata": {
        "id": "AoAbqhOuZSmt"
      }
    },
    {
      "cell_type": "markdown",
      "source": [
        "## Merge sort\n",
        "\n",
        "-- Here we divide the list into 2 and sort then individually\n",
        "\n",
        "- Then we pick the elements from the those individually, in order that we want\n",
        "- if ascending we pick smaller from both and then check in both for next(for decending vice versa)\n",
        "\n",
        "1) divide list into half, then those halfs into halves until they become 1 element\n",
        "2) we start the reverse order by combining 1 elements -> 2, then and so on.."
      ],
      "metadata": {
        "id": "YR6VycyeamLV"
      }
    },
    {
      "cell_type": "markdown",
      "source": [
        "## Divide & conquer\n",
        "\n",
        "- Breakup problem into disjoint parts\n",
        "- solve separately & combine efficiently"
      ],
      "metadata": {
        "id": "TXjqMGAuchHX"
      }
    },
    {
      "cell_type": "code",
      "execution_count": null,
      "metadata": {
        "id": "SL2bk8rhY1pi"
      },
      "outputs": [],
      "source": [
        "def merge_sort(A,B):\n",
        "  c = []\n",
        "  m = len(A)\n",
        "  n = len(B)\n",
        "  i = 0\n",
        "  j = 0\n",
        "  # (i,j) = (0,0) # current A,B positions\n",
        "\n",
        "## merging\n",
        "  while i+j < m+n:\n",
        "    if i == m:\n",
        "       # A is Empty\n",
        "      c.append(B[j])\n",
        "      j += 1  \n",
        "    elif j == n:\n",
        "      c.append(A[i])\n",
        "      i += 1\n",
        "    elif A[i] <= B[j]:  # head of A is smaller\n",
        "      c.append(A[i])\n",
        "      i += 1\n",
        "    elif A[i] > B[j]:\n",
        "      c.append(B[j])\n",
        "      j += 1\n",
        "  return c               "
      ]
    },
    {
      "cell_type": "code",
      "source": [
        "a = [23,12,43,5,21,534]\n",
        "b = [43,2,54,64,4]\n",
        "merge_sort(a,b)"
      ],
      "metadata": {
        "colab": {
          "base_uri": "https://localhost:8080/"
        },
        "id": "_HV5RQKee3Q9",
        "outputId": "5293ca7c-0907-4371-dc67-5f709a71cbee"
      },
      "execution_count": null,
      "outputs": [
        {
          "output_type": "execute_result",
          "data": {
            "text/plain": [
              "[23, 12, 43, 5, 21, 43, 2, 54, 64, 4, 534]"
            ]
          },
          "metadata": {},
          "execution_count": 40
        }
      ]
    },
    {
      "cell_type": "code",
      "source": [
        "def msort(A,left,right):\n",
        "  if right - left <= 1:\n",
        "    return (A[left:right])\n",
        "\n",
        "  if right - left > 1:\n",
        "    mid = (left+right) // 2\n",
        "    L = msort(A,left,mid)\n",
        "    R = msort(A,mid,right)\n",
        "\n",
        "    return (merge_sort(L,R))  "
      ],
      "metadata": {
        "id": "IEMFFYy1fhhj"
      },
      "execution_count": null,
      "outputs": []
    },
    {
      "cell_type": "code",
      "source": [
        "msort(a,0,len(a))"
      ],
      "metadata": {
        "colab": {
          "base_uri": "https://localhost:8080/"
        },
        "id": "QUxlRwENgg2R",
        "outputId": "ebf72156-2224-4642-94f6-e32cb81f2dea"
      },
      "execution_count": null,
      "outputs": [
        {
          "output_type": "execute_result",
          "data": {
            "text/plain": [
              "[5, 12, 21, 23, 43, 534]"
            ]
          },
          "metadata": {},
          "execution_count": 42
        }
      ]
    },
    {
      "cell_type": "markdown",
      "source": [
        "- The recursive not for 1 element but for half the list, so here  n log(n)"
      ],
      "metadata": {
        "id": "a5_3zC_QljCF"
      }
    },
    {
      "cell_type": "markdown",
      "source": [
        "## Quick sort\n",
        "\n",
        "- mergesort requires more space for performing\n",
        "- takes recursive which takes more time\n",
        "\n",
        "1. Divide & conquer without merging\n",
        "- find median and arrange left & right\n",
        "- recursively sort left & right\n",
        "- A now sorted\n",
        "- T(n) = 2T(n/2)+n = O(n log n)\n",
        "\n",
        "above the problem is to find median, so to address this, we pick a pivot"
      ],
      "metadata": {
        "id": "fRR5iEMSuZUs"
      }
    },
    {
      "cell_type": "code",
      "source": [
        "def quicksort(A,l,r):\n",
        "  if r-l <= 1: #base case\n",
        "    return ()\n",
        "\n",
        "  yellow = l+1\n",
        "# pivot\n",
        "  for green in range(l+1,r):\n",
        "    if A[green] <= A[l]:\n",
        "      (A[yellow],A[green])=(A[green],A[yellow])\n",
        "      yellow = yellow + 1\n",
        "\n",
        "  # moving pivot \n",
        "  (A[l],A[yellow-1]) = (A[yellow-1],A[l])\n",
        "\n",
        "  quicksort(A,l,yellow-1)\n",
        "  quicksort(A,yellow,r)     "
      ],
      "metadata": {
        "id": "opBv2ENIlXUs"
      },
      "execution_count": null,
      "outputs": []
    },
    {
      "cell_type": "markdown",
      "source": [
        "### QUick sort Analysis\n",
        "\n",
        "- choose a pivot usually first value of array\n",
        "- partition A into lower and upper parts with respect to pivot\n",
        "- move pivot b/w lower & upper\n",
        "- recursively sort two partitions"
      ],
      "metadata": {
        "id": "Jkdj6tUKyXKi"
      }
    },
    {
      "cell_type": "markdown",
      "source": [
        "1. pivot is either minimum or max - - **worst case**\n",
        "one partition is empty.\n",
        "other has size n-1.\n",
        "T(n) = T(n-2)+(n-1)+n = O(n2)."
      ],
      "metadata": {
        "id": "eQgO1_RXy7Vj"
      }
    },
    {
      "cell_type": "markdown",
      "source": [
        "Already sorted is the worst case for quiuck sort.\n",
        "\n",
        "but Average case is O(n log n)"
      ],
      "metadata": {
        "id": "xzl7i9RUzjnf"
      }
    },
    {
      "cell_type": "markdown",
      "source": [
        "\n",
        "\n",
        "*   QUICK sort is very fast\n",
        "*   default sort for many spread sheet & programming languages\n",
        "* randomizing list will give very fast result\n",
        "\n",
        "\n",
        "\n"
      ],
      "metadata": {
        "id": "bU3Z5ZKN0Ak0"
      }
    },
    {
      "cell_type": "markdown",
      "source": [
        "# Tuples\n",
        "\n",
        "tuples is a sequence but immutable one"
      ],
      "metadata": {
        "id": "rzKlAicCSaR8"
      }
    },
    {
      "cell_type": "code",
      "source": [
        "a = ()"
      ],
      "metadata": {
        "id": "-xfo-4OGyAcn"
      },
      "execution_count": null,
      "outputs": []
    },
    {
      "cell_type": "code",
      "source": [
        "type(a)"
      ],
      "metadata": {
        "colab": {
          "base_uri": "https://localhost:8080/"
        },
        "id": "GMDegbj9Sl-S",
        "outputId": "9a5de0f1-2c7a-41c3-e1d2-ed452908be6d"
      },
      "execution_count": null,
      "outputs": [
        {
          "output_type": "execute_result",
          "data": {
            "text/plain": [
              "tuple"
            ]
          },
          "metadata": {},
          "execution_count": 2
        }
      ]
    },
    {
      "cell_type": "code",
      "source": [
        "a[1]=3 # tuples are immutable"
      ],
      "metadata": {
        "colab": {
          "base_uri": "https://localhost:8080/",
          "height": 166
        },
        "id": "T_JP-B5pSuCx",
        "outputId": "996bc749-3f60-4a96-8502-ed3dab381d93"
      },
      "execution_count": null,
      "outputs": [
        {
          "output_type": "error",
          "ename": "TypeError",
          "evalue": "ignored",
          "traceback": [
            "\u001b[0;31m---------------------------------------------------------------------------\u001b[0m",
            "\u001b[0;31mTypeError\u001b[0m                                 Traceback (most recent call last)",
            "\u001b[0;32m<ipython-input-4-6ea9adc69277>\u001b[0m in \u001b[0;36m<module>\u001b[0;34m()\u001b[0m\n\u001b[0;32m----> 1\u001b[0;31m \u001b[0ma\u001b[0m\u001b[0;34m[\u001b[0m\u001b[0;36m1\u001b[0m\u001b[0;34m]\u001b[0m\u001b[0;34m=\u001b[0m\u001b[0;36m3\u001b[0m \u001b[0;31m# tuples are immutable\u001b[0m\u001b[0;34m\u001b[0m\u001b[0;34m\u001b[0m\u001b[0m\n\u001b[0m",
            "\u001b[0;31mTypeError\u001b[0m: 'tuple' object does not support item assignment"
          ]
        }
      ]
    },
    {
      "cell_type": "code",
      "source": [
        "a[0] # we get a slice from tuple as it dont change orginal list"
      ],
      "metadata": {
        "colab": {
          "base_uri": "https://localhost:8080/",
          "height": 166
        },
        "id": "f7KCs8CzS7fq",
        "outputId": "b295ba8e-68c2-4225-945f-1d711b80ace8"
      },
      "execution_count": null,
      "outputs": [
        {
          "output_type": "error",
          "ename": "IndexError",
          "evalue": "ignored",
          "traceback": [
            "\u001b[0;31m---------------------------------------------------------------------------\u001b[0m",
            "\u001b[0;31mIndexError\u001b[0m                                Traceback (most recent call last)",
            "\u001b[0;32m<ipython-input-6-e6a6fec8e3c1>\u001b[0m in \u001b[0;36m<module>\u001b[0;34m()\u001b[0m\n\u001b[0;32m----> 1\u001b[0;31m \u001b[0ma\u001b[0m\u001b[0;34m[\u001b[0m\u001b[0;36m0\u001b[0m\u001b[0;34m]\u001b[0m \u001b[0;31m# we get a slice from tuple as it dont change orginal list\u001b[0m\u001b[0;34m\u001b[0m\u001b[0;34m\u001b[0m\u001b[0m\n\u001b[0m",
            "\u001b[0;31mIndexError\u001b[0m: tuple index out of range"
          ]
        }
      ]
    },
    {
      "cell_type": "markdown",
      "source": [
        "### Generlizing lists\n",
        "\n",
        "- The elements in a list are sequenced in a order where elements are assigned to a index"
      ],
      "metadata": {
        "id": "TyYIsmY8Tewa"
      }
    },
    {
      "cell_type": "code",
      "source": [
        "a = [1,2,4,5,6,7]\n",
        "for i in range(len(a)):\n",
        "  print(i,end=\" \")"
      ],
      "metadata": {
        "colab": {
          "base_uri": "https://localhost:8080/"
        },
        "id": "sUrfRmHETJqZ",
        "outputId": "4de66a4b-e54f-47cb-cb4f-3c12fd88d936"
      },
      "execution_count": null,
      "outputs": [
        {
          "output_type": "stream",
          "name": "stdout",
          "text": [
            "0 1 2 3 4 5 "
          ]
        }
      ]
    },
    {
      "cell_type": "markdown",
      "source": [
        "# Dictionaries\n",
        "\n",
        "Dictionaries are mutable, but keys are not mutable"
      ],
      "metadata": {
        "id": "u0ikymsWUHBV"
      }
    },
    {
      "cell_type": "code",
      "source": [
        "new = {} # empty dict declaration, should assign a dictionary before use"
      ],
      "metadata": {
        "id": "4OpYIOw4T5HG"
      },
      "execution_count": null,
      "outputs": []
    },
    {
      "cell_type": "code",
      "source": [
        "new['a'] = 1"
      ],
      "metadata": {
        "id": "PCY7W0YrUbEB"
      },
      "execution_count": null,
      "outputs": []
    },
    {
      "cell_type": "markdown",
      "source": [
        "- The can be int, float, string, tuple, bool but not list, dictionary"
      ],
      "metadata": {
        "id": "_e46CiUAUkjo"
      }
    },
    {
      "cell_type": "code",
      "source": [
        "new['test']['kohli']=23 # test is not declared"
      ],
      "metadata": {
        "colab": {
          "base_uri": "https://localhost:8080/",
          "height": 166
        },
        "id": "gf_IDx7eUjt4",
        "outputId": "02e5d237-52c8-456b-9abc-09882a7c84ef"
      },
      "execution_count": null,
      "outputs": [
        {
          "output_type": "error",
          "ename": "KeyError",
          "evalue": "ignored",
          "traceback": [
            "\u001b[0;31m---------------------------------------------------------------------------\u001b[0m",
            "\u001b[0;31mKeyError\u001b[0m                                  Traceback (most recent call last)",
            "\u001b[0;32m<ipython-input-14-6a261c3082d8>\u001b[0m in \u001b[0;36m<module>\u001b[0;34m()\u001b[0m\n\u001b[0;32m----> 1\u001b[0;31m \u001b[0mnew\u001b[0m\u001b[0;34m[\u001b[0m\u001b[0;34m'test'\u001b[0m\u001b[0;34m]\u001b[0m\u001b[0;34m[\u001b[0m\u001b[0;34m'kohli'\u001b[0m\u001b[0;34m]\u001b[0m\u001b[0;34m=\u001b[0m\u001b[0;36m23\u001b[0m \u001b[0;31m# test is not declared\u001b[0m\u001b[0;34m\u001b[0m\u001b[0;34m\u001b[0m\u001b[0m\n\u001b[0m",
            "\u001b[0;31mKeyError\u001b[0m: 'test'"
          ]
        }
      ]
    },
    {
      "cell_type": "code",
      "source": [
        "new['test']={}"
      ],
      "metadata": {
        "id": "6uaOeshPU_wD"
      },
      "execution_count": null,
      "outputs": []
    },
    {
      "cell_type": "code",
      "source": [
        "new"
      ],
      "metadata": {
        "colab": {
          "base_uri": "https://localhost:8080/"
        },
        "id": "3skNptaYVOS_",
        "outputId": "d2a60759-663f-4ee7-a4bd-2523a3f50c2b"
      },
      "execution_count": null,
      "outputs": [
        {
          "output_type": "execute_result",
          "data": {
            "text/plain": [
              "{'a': 1, 'test': {}}"
            ]
          },
          "metadata": {},
          "execution_count": 16
        }
      ]
    },
    {
      "cell_type": "code",
      "source": [
        "new['test']['kohli']=23"
      ],
      "metadata": {
        "id": "W69HqX4JVPOy"
      },
      "execution_count": null,
      "outputs": []
    },
    {
      "cell_type": "code",
      "source": [
        "new"
      ],
      "metadata": {
        "colab": {
          "base_uri": "https://localhost:8080/"
        },
        "id": "HhzVTZ2DVSk2",
        "outputId": "c4524e92-104c-4a5f-bfe4-a04614c84d1f"
      },
      "execution_count": null,
      "outputs": [
        {
          "output_type": "execute_result",
          "data": {
            "text/plain": [
              "{'a': 1, 'test': {'kohli': 23}}"
            ]
          },
          "metadata": {},
          "execution_count": 18
        }
      ]
    },
    {
      "cell_type": "code",
      "source": [
        "new.keys()"
      ],
      "metadata": {
        "colab": {
          "base_uri": "https://localhost:8080/"
        },
        "id": "f36-NnaCVXf_",
        "outputId": "5781fd3e-3e55-48be-9a09-5e0cca0634b2"
      },
      "execution_count": null,
      "outputs": [
        {
          "output_type": "execute_result",
          "data": {
            "text/plain": [
              "dict_keys(['a', 'test'])"
            ]
          },
          "metadata": {},
          "execution_count": 21
        }
      ]
    },
    {
      "cell_type": "code",
      "source": [
        "type(new.keys()) # not a list, a different data structure"
      ],
      "metadata": {
        "colab": {
          "base_uri": "https://localhost:8080/"
        },
        "id": "1xQPYdsYVeG4",
        "outputId": "74a1aa72-9e0a-4e8f-85cb-2f1322f7b90e"
      },
      "execution_count": null,
      "outputs": [
        {
          "output_type": "execute_result",
          "data": {
            "text/plain": [
              "dict_keys"
            ]
          },
          "metadata": {},
          "execution_count": 23
        }
      ]
    },
    {
      "cell_type": "markdown",
      "source": [
        "- keys are not in order, we can use sorted for this, where it dont change orginal\n"
      ],
      "metadata": {
        "id": "l0Rq9dr1V9Qk"
      }
    },
    {
      "cell_type": "code",
      "source": [
        "type(new.values())"
      ],
      "metadata": {
        "colab": {
          "base_uri": "https://localhost:8080/"
        },
        "id": "YYYYJBPPVuf-",
        "outputId": "19635e28-2a0b-4b08-a678-39b3b98c81fe"
      },
      "execution_count": null,
      "outputs": [
        {
          "output_type": "execute_result",
          "data": {
            "text/plain": [
              "dict_values"
            ]
          },
          "metadata": {},
          "execution_count": 24
        }
      ]
    },
    {
      "cell_type": "code",
      "source": [
        "new_dict = {1:'a',3:'ads',4:'hed',5:'ajf'}"
      ],
      "metadata": {
        "id": "OhxhjKyjV4xT"
      },
      "execution_count": null,
      "outputs": []
    },
    {
      "cell_type": "code",
      "source": [
        "new_dict.keys()"
      ],
      "metadata": {
        "colab": {
          "base_uri": "https://localhost:8080/"
        },
        "id": "VamXxhnSWVUA",
        "outputId": "3aaf0cf9-5a73-4fd5-abc0-554a014fd8aa"
      },
      "execution_count": null,
      "outputs": [
        {
          "output_type": "execute_result",
          "data": {
            "text/plain": [
              "dict_keys([1, 3, 4, 5])"
            ]
          },
          "metadata": {},
          "execution_count": 26
        }
      ]
    },
    {
      "cell_type": "code",
      "source": [
        "sorted(new_dict.keys()) # this helps in preserving key order"
      ],
      "metadata": {
        "colab": {
          "base_uri": "https://localhost:8080/"
        },
        "id": "LRi5RysuWYYY",
        "outputId": "62729672-eef3-4561-b85c-f4dc12f914f5"
      },
      "execution_count": null,
      "outputs": [
        {
          "output_type": "execute_result",
          "data": {
            "text/plain": [
              "[1, 3, 4, 5]"
            ]
          },
          "metadata": {},
          "execution_count": 28
        }
      ]
    },
    {
      "cell_type": "code",
      "source": [
        "total={}\n",
        "score={}\n",
        "for n in ['kohli','Dhawan','Yuvraj']:\n",
        "  total[n] = 0\n",
        "  for match in score.keys():\n",
        "    if n in score[match].keys():\n",
        "      total[n] = total[n]+score[match][n]"
      ],
      "metadata": {
        "id": "IdCDDlGBWgMc"
      },
      "execution_count": null,
      "outputs": []
    },
    {
      "cell_type": "code",
      "source": [
        "total"
      ],
      "metadata": {
        "colab": {
          "base_uri": "https://localhost:8080/"
        },
        "id": "nu9SVDXeXcFu",
        "outputId": "5b04bdd5-1e97-4e32-a1b0-54db60cedb43"
      },
      "execution_count": null,
      "outputs": [
        {
          "output_type": "execute_result",
          "data": {
            "text/plain": [
              "{'Dhawan': 0, 'Yuvraj': 0, 'kohli': 0}"
            ]
          },
          "metadata": {},
          "execution_count": 32
        }
      ]
    },
    {
      "cell_type": "code",
      "source": [
        "score"
      ],
      "metadata": {
        "colab": {
          "base_uri": "https://localhost:8080/"
        },
        "id": "Ek6LlEFiXmDT",
        "outputId": "c465ab04-5d5a-441e-8d90-3795667a8d70"
      },
      "execution_count": null,
      "outputs": [
        {
          "output_type": "execute_result",
          "data": {
            "text/plain": [
              "{}"
            ]
          },
          "metadata": {},
          "execution_count": 33
        }
      ]
    },
    {
      "cell_type": "markdown",
      "source": [
        "# Function defination"
      ],
      "metadata": {
        "id": "LEUTDPOjZAgt"
      }
    },
    {
      "cell_type": "code",
      "source": [
        "def quicksort(a, l =10,r=len(a)) # this wont work, because r is not static"
      ],
      "metadata": {
        "id": "QtWnUCLaXnmt"
      },
      "execution_count": null,
      "outputs": []
    },
    {
      "cell_type": "code",
      "source": [
        "def quick(a,b,c=19,d=22) # this works because the inputs are static, these should happen at time of defination"
      ],
      "metadata": {
        "colab": {
          "base_uri": "https://localhost:8080/",
          "height": 131
        },
        "id": "r-59ferVZX7M",
        "outputId": "19a94bd6-18b9-4e1f-8b5d-861775c78ff7"
      },
      "execution_count": null,
      "outputs": [
        {
          "output_type": "error",
          "ename": "SyntaxError",
          "evalue": "ignored",
          "traceback": [
            "\u001b[0;36m  File \u001b[0;32m\"<ipython-input-34-78fa0c75b9a4>\"\u001b[0;36m, line \u001b[0;32m1\u001b[0m\n\u001b[0;31m    def quick(a,b,c=19,d=22) # this works because the inputs are static, these should happen at time of defination\u001b[0m\n\u001b[0m                                                                                                                  ^\u001b[0m\n\u001b[0;31mSyntaxError\u001b[0m\u001b[0;31m:\u001b[0m invalid syntax\n"
          ]
        }
      ]
    },
    {
      "cell_type": "code",
      "source": [
        "quick(2,3)  --> interprets as quick(2,3,19,22)\n",
        "quick(3,5,6) ---> interprets as quick(3,5,6,22)"
      ],
      "metadata": {
        "id": "6AaFL-vyZ3UQ"
      },
      "execution_count": null,
      "outputs": []
    },
    {
      "cell_type": "markdown",
      "source": [
        "-> order os argument is important"
      ],
      "metadata": {
        "id": "5vud7SAUaWri"
      }
    },
    {
      "cell_type": "code",
      "source": [
        "if condition:\n",
        "  def g(a,r,d):\n",
        "else:\n",
        "  def g(a,d,r)    "
      ],
      "metadata": {
        "id": "saLvvCK5ZoI0"
      },
      "execution_count": null,
      "outputs": []
    },
    {
      "cell_type": "code",
      "source": [
        "def f(a):\n",
        "\n",
        "g = f\n",
        "# so here we can use\n",
        "g(a)  "
      ],
      "metadata": {
        "id": "9OOkFPOIazks"
      },
      "execution_count": null,
      "outputs": []
    },
    {
      "cell_type": "markdown",
      "source": [
        "- Function definations behave like other assignments of values to names\n",
        "- can reassign a new defination, using conditionally\n",
        "- can pass function name to other functions"
      ],
      "metadata": {
        "id": "Ase3PrzzbuVL"
      }
    },
    {
      "cell_type": "markdown",
      "source": [
        "# List Comprehension\n",
        "\n",
        "- Map applies function to each element, map(f,l) applies f to each element of l.\n",
        "\n",
        "- map(f,l) is not a list, but a map object\n",
        "- to get as list, list(map(f,l)) to get a list"
      ],
      "metadata": {
        "id": "vLoegHIP-G5g"
      }
    },
    {
      "cell_type": "code",
      "source": [
        "def subl(new,lis):\n",
        "  sublist = []\n",
        "  for x in lis:\n",
        "    if new(x):\n",
        "      sublist.append(x)\n",
        "\n",
        "  return sublist      "
      ],
      "metadata": {
        "id": "Ude2hf2K-TOz"
      },
      "execution_count": null,
      "outputs": []
    },
    {
      "cell_type": "markdown",
      "source": [
        "OR"
      ],
      "metadata": {
        "id": "8p2GYaBuANAK"
      }
    },
    {
      "cell_type": "code",
      "source": [
        "filter(new,lis)  # do same as it to element that support the new property"
      ],
      "metadata": {
        "colab": {
          "base_uri": "https://localhost:8080/",
          "height": 166
        },
        "id": "eCyV864ubIBx",
        "outputId": "17b2a6ed-4903-4e6e-fc22-30938475adf1"
      },
      "execution_count": null,
      "outputs": [
        {
          "output_type": "error",
          "ename": "NameError",
          "evalue": "ignored",
          "traceback": [
            "\u001b[0;31m---------------------------------------------------------------------------\u001b[0m",
            "\u001b[0;31mNameError\u001b[0m                                 Traceback (most recent call last)",
            "\u001b[0;32m<ipython-input-2-4297ae101ac9>\u001b[0m in \u001b[0;36m<module>\u001b[0;34m()\u001b[0m\n\u001b[0;32m----> 1\u001b[0;31m \u001b[0mfilter\u001b[0m\u001b[0;34m(\u001b[0m\u001b[0mnew\u001b[0m\u001b[0;34m,\u001b[0m\u001b[0mlis\u001b[0m\u001b[0;34m)\u001b[0m  \u001b[0;31m# do same as it to element that support the new property\u001b[0m\u001b[0;34m\u001b[0m\u001b[0;34m\u001b[0m\u001b[0m\n\u001b[0m",
            "\u001b[0;31mNameError\u001b[0m: name 'new' is not defined"
          ]
        }
      ]
    },
    {
      "cell_type": "code",
      "source": [
        "list(map(square,filter(iseven,range(100))))\n",
        "\n",
        "def square(x):\n",
        "  return x**2\n",
        "\n",
        "def iseven(x):\n",
        "  return x%2 == 0\n"
      ],
      "metadata": {
        "id": "DzYOl5_NAg1U"
      },
      "execution_count": null,
      "outputs": []
    },
    {
      "cell_type": "code",
      "source": [
        "[square(x) for i in range(100) if iseven(x)] # square(x) - map\n",
        "# for - generator\n",
        "# iseven - filter"
      ],
      "metadata": {
        "id": "3AGPDdR0Bjbq"
      },
      "execution_count": null,
      "outputs": []
    },
    {
      "cell_type": "markdown",
      "source": [
        "-> Inner generators are dependent on outer generators"
      ],
      "metadata": {
        "id": "fubB4R0qDWsc"
      }
    },
    {
      "cell_type": "code",
      "source": [
        "# pythogorous triples\n",
        "\n",
        "[(x,y,z) for x in range(100) for y in range(100) for z in range(100) if x*x+y*y==z*z]\n"
      ],
      "metadata": {
        "colab": {
          "base_uri": "https://localhost:8080/"
        },
        "id": "NOcpXyPnB-9h",
        "outputId": "1e0661ad-07b6-4063-fd0d-99536d34a45d"
      },
      "execution_count": null,
      "outputs": [
        {
          "output_type": "execute_result",
          "data": {
            "text/plain": [
              "[(0, 0, 0),\n",
              " (0, 1, 1),\n",
              " (0, 2, 2),\n",
              " (0, 3, 3),\n",
              " (0, 4, 4),\n",
              " (0, 5, 5),\n",
              " (0, 6, 6),\n",
              " (0, 7, 7),\n",
              " (0, 8, 8),\n",
              " (0, 9, 9),\n",
              " (0, 10, 10),\n",
              " (0, 11, 11),\n",
              " (0, 12, 12),\n",
              " (0, 13, 13),\n",
              " (0, 14, 14),\n",
              " (0, 15, 15),\n",
              " (0, 16, 16),\n",
              " (0, 17, 17),\n",
              " (0, 18, 18),\n",
              " (0, 19, 19),\n",
              " (0, 20, 20),\n",
              " (0, 21, 21),\n",
              " (0, 22, 22),\n",
              " (0, 23, 23),\n",
              " (0, 24, 24),\n",
              " (0, 25, 25),\n",
              " (0, 26, 26),\n",
              " (0, 27, 27),\n",
              " (0, 28, 28),\n",
              " (0, 29, 29),\n",
              " (0, 30, 30),\n",
              " (0, 31, 31),\n",
              " (0, 32, 32),\n",
              " (0, 33, 33),\n",
              " (0, 34, 34),\n",
              " (0, 35, 35),\n",
              " (0, 36, 36),\n",
              " (0, 37, 37),\n",
              " (0, 38, 38),\n",
              " (0, 39, 39),\n",
              " (0, 40, 40),\n",
              " (0, 41, 41),\n",
              " (0, 42, 42),\n",
              " (0, 43, 43),\n",
              " (0, 44, 44),\n",
              " (0, 45, 45),\n",
              " (0, 46, 46),\n",
              " (0, 47, 47),\n",
              " (0, 48, 48),\n",
              " (0, 49, 49),\n",
              " (0, 50, 50),\n",
              " (0, 51, 51),\n",
              " (0, 52, 52),\n",
              " (0, 53, 53),\n",
              " (0, 54, 54),\n",
              " (0, 55, 55),\n",
              " (0, 56, 56),\n",
              " (0, 57, 57),\n",
              " (0, 58, 58),\n",
              " (0, 59, 59),\n",
              " (0, 60, 60),\n",
              " (0, 61, 61),\n",
              " (0, 62, 62),\n",
              " (0, 63, 63),\n",
              " (0, 64, 64),\n",
              " (0, 65, 65),\n",
              " (0, 66, 66),\n",
              " (0, 67, 67),\n",
              " (0, 68, 68),\n",
              " (0, 69, 69),\n",
              " (0, 70, 70),\n",
              " (0, 71, 71),\n",
              " (0, 72, 72),\n",
              " (0, 73, 73),\n",
              " (0, 74, 74),\n",
              " (0, 75, 75),\n",
              " (0, 76, 76),\n",
              " (0, 77, 77),\n",
              " (0, 78, 78),\n",
              " (0, 79, 79),\n",
              " (0, 80, 80),\n",
              " (0, 81, 81),\n",
              " (0, 82, 82),\n",
              " (0, 83, 83),\n",
              " (0, 84, 84),\n",
              " (0, 85, 85),\n",
              " (0, 86, 86),\n",
              " (0, 87, 87),\n",
              " (0, 88, 88),\n",
              " (0, 89, 89),\n",
              " (0, 90, 90),\n",
              " (0, 91, 91),\n",
              " (0, 92, 92),\n",
              " (0, 93, 93),\n",
              " (0, 94, 94),\n",
              " (0, 95, 95),\n",
              " (0, 96, 96),\n",
              " (0, 97, 97),\n",
              " (0, 98, 98),\n",
              " (0, 99, 99),\n",
              " (1, 0, 1),\n",
              " (2, 0, 2),\n",
              " (3, 0, 3),\n",
              " (3, 4, 5),\n",
              " (4, 0, 4),\n",
              " (4, 3, 5),\n",
              " (5, 0, 5),\n",
              " (5, 12, 13),\n",
              " (6, 0, 6),\n",
              " (6, 8, 10),\n",
              " (7, 0, 7),\n",
              " (7, 24, 25),\n",
              " (8, 0, 8),\n",
              " (8, 6, 10),\n",
              " (8, 15, 17),\n",
              " (9, 0, 9),\n",
              " (9, 12, 15),\n",
              " (9, 40, 41),\n",
              " (10, 0, 10),\n",
              " (10, 24, 26),\n",
              " (11, 0, 11),\n",
              " (11, 60, 61),\n",
              " (12, 0, 12),\n",
              " (12, 5, 13),\n",
              " (12, 9, 15),\n",
              " (12, 16, 20),\n",
              " (12, 35, 37),\n",
              " (13, 0, 13),\n",
              " (13, 84, 85),\n",
              " (14, 0, 14),\n",
              " (14, 48, 50),\n",
              " (15, 0, 15),\n",
              " (15, 8, 17),\n",
              " (15, 20, 25),\n",
              " (15, 36, 39),\n",
              " (16, 0, 16),\n",
              " (16, 12, 20),\n",
              " (16, 30, 34),\n",
              " (16, 63, 65),\n",
              " (17, 0, 17),\n",
              " (18, 0, 18),\n",
              " (18, 24, 30),\n",
              " (18, 80, 82),\n",
              " (19, 0, 19),\n",
              " (20, 0, 20),\n",
              " (20, 15, 25),\n",
              " (20, 21, 29),\n",
              " (20, 48, 52),\n",
              " (21, 0, 21),\n",
              " (21, 20, 29),\n",
              " (21, 28, 35),\n",
              " (21, 72, 75),\n",
              " (22, 0, 22),\n",
              " (23, 0, 23),\n",
              " (24, 0, 24),\n",
              " (24, 7, 25),\n",
              " (24, 10, 26),\n",
              " (24, 18, 30),\n",
              " (24, 32, 40),\n",
              " (24, 45, 51),\n",
              " (24, 70, 74),\n",
              " (25, 0, 25),\n",
              " (25, 60, 65),\n",
              " (26, 0, 26),\n",
              " (27, 0, 27),\n",
              " (27, 36, 45),\n",
              " (28, 0, 28),\n",
              " (28, 21, 35),\n",
              " (28, 45, 53),\n",
              " (29, 0, 29),\n",
              " (30, 0, 30),\n",
              " (30, 16, 34),\n",
              " (30, 40, 50),\n",
              " (30, 72, 78),\n",
              " (31, 0, 31),\n",
              " (32, 0, 32),\n",
              " (32, 24, 40),\n",
              " (32, 60, 68),\n",
              " (33, 0, 33),\n",
              " (33, 44, 55),\n",
              " (33, 56, 65),\n",
              " (34, 0, 34),\n",
              " (35, 0, 35),\n",
              " (35, 12, 37),\n",
              " (35, 84, 91),\n",
              " (36, 0, 36),\n",
              " (36, 15, 39),\n",
              " (36, 27, 45),\n",
              " (36, 48, 60),\n",
              " (36, 77, 85),\n",
              " (37, 0, 37),\n",
              " (38, 0, 38),\n",
              " (39, 0, 39),\n",
              " (39, 52, 65),\n",
              " (39, 80, 89),\n",
              " (40, 0, 40),\n",
              " (40, 9, 41),\n",
              " (40, 30, 50),\n",
              " (40, 42, 58),\n",
              " (40, 75, 85),\n",
              " (41, 0, 41),\n",
              " (42, 0, 42),\n",
              " (42, 40, 58),\n",
              " (42, 56, 70),\n",
              " (43, 0, 43),\n",
              " (44, 0, 44),\n",
              " (44, 33, 55),\n",
              " (45, 0, 45),\n",
              " (45, 24, 51),\n",
              " (45, 28, 53),\n",
              " (45, 60, 75),\n",
              " (46, 0, 46),\n",
              " (47, 0, 47),\n",
              " (48, 0, 48),\n",
              " (48, 14, 50),\n",
              " (48, 20, 52),\n",
              " (48, 36, 60),\n",
              " (48, 55, 73),\n",
              " (48, 64, 80),\n",
              " (49, 0, 49),\n",
              " (50, 0, 50),\n",
              " (51, 0, 51),\n",
              " (51, 68, 85),\n",
              " (52, 0, 52),\n",
              " (52, 39, 65),\n",
              " (53, 0, 53),\n",
              " (54, 0, 54),\n",
              " (54, 72, 90),\n",
              " (55, 0, 55),\n",
              " (55, 48, 73),\n",
              " (56, 0, 56),\n",
              " (56, 33, 65),\n",
              " (56, 42, 70),\n",
              " (57, 0, 57),\n",
              " (57, 76, 95),\n",
              " (58, 0, 58),\n",
              " (59, 0, 59),\n",
              " (60, 0, 60),\n",
              " (60, 11, 61),\n",
              " (60, 25, 65),\n",
              " (60, 32, 68),\n",
              " (60, 45, 75),\n",
              " (60, 63, 87),\n",
              " (61, 0, 61),\n",
              " (62, 0, 62),\n",
              " (63, 0, 63),\n",
              " (63, 16, 65),\n",
              " (63, 60, 87),\n",
              " (64, 0, 64),\n",
              " (64, 48, 80),\n",
              " (65, 0, 65),\n",
              " (65, 72, 97),\n",
              " (66, 0, 66),\n",
              " (67, 0, 67),\n",
              " (68, 0, 68),\n",
              " (68, 51, 85),\n",
              " (69, 0, 69),\n",
              " (70, 0, 70),\n",
              " (70, 24, 74),\n",
              " (71, 0, 71),\n",
              " (72, 0, 72),\n",
              " (72, 21, 75),\n",
              " (72, 30, 78),\n",
              " (72, 54, 90),\n",
              " (72, 65, 97),\n",
              " (73, 0, 73),\n",
              " (74, 0, 74),\n",
              " (75, 0, 75),\n",
              " (75, 40, 85),\n",
              " (76, 0, 76),\n",
              " (76, 57, 95),\n",
              " (77, 0, 77),\n",
              " (77, 36, 85),\n",
              " (78, 0, 78),\n",
              " (79, 0, 79),\n",
              " (80, 0, 80),\n",
              " (80, 18, 82),\n",
              " (80, 39, 89),\n",
              " (81, 0, 81),\n",
              " (82, 0, 82),\n",
              " (83, 0, 83),\n",
              " (84, 0, 84),\n",
              " (84, 13, 85),\n",
              " (84, 35, 91),\n",
              " (85, 0, 85),\n",
              " (86, 0, 86),\n",
              " (87, 0, 87),\n",
              " (88, 0, 88),\n",
              " (89, 0, 89),\n",
              " (90, 0, 90),\n",
              " (91, 0, 91),\n",
              " (92, 0, 92),\n",
              " (93, 0, 93),\n",
              " (94, 0, 94),\n",
              " (95, 0, 95),\n",
              " (96, 0, 96),\n",
              " (97, 0, 97),\n",
              " (98, 0, 98),\n",
              " (99, 0, 99)]"
            ]
          },
          "metadata": {},
          "execution_count": 6
        }
      ]
    },
    {
      "cell_type": "code",
      "source": [
        "[(x,y,z) for x in range(100) for y in range(x,100) for z in range(y,100) if x*x+y*y==z*z]"
      ],
      "metadata": {
        "colab": {
          "base_uri": "https://localhost:8080/"
        },
        "id": "5GhLmObiEDHj",
        "outputId": "0de2bd78-2c8f-430f-b801-b2a6b2c9740f"
      },
      "execution_count": null,
      "outputs": [
        {
          "output_type": "execute_result",
          "data": {
            "text/plain": [
              "[(0, 0, 0),\n",
              " (0, 1, 1),\n",
              " (0, 2, 2),\n",
              " (0, 3, 3),\n",
              " (0, 4, 4),\n",
              " (0, 5, 5),\n",
              " (0, 6, 6),\n",
              " (0, 7, 7),\n",
              " (0, 8, 8),\n",
              " (0, 9, 9),\n",
              " (0, 10, 10),\n",
              " (0, 11, 11),\n",
              " (0, 12, 12),\n",
              " (0, 13, 13),\n",
              " (0, 14, 14),\n",
              " (0, 15, 15),\n",
              " (0, 16, 16),\n",
              " (0, 17, 17),\n",
              " (0, 18, 18),\n",
              " (0, 19, 19),\n",
              " (0, 20, 20),\n",
              " (0, 21, 21),\n",
              " (0, 22, 22),\n",
              " (0, 23, 23),\n",
              " (0, 24, 24),\n",
              " (0, 25, 25),\n",
              " (0, 26, 26),\n",
              " (0, 27, 27),\n",
              " (0, 28, 28),\n",
              " (0, 29, 29),\n",
              " (0, 30, 30),\n",
              " (0, 31, 31),\n",
              " (0, 32, 32),\n",
              " (0, 33, 33),\n",
              " (0, 34, 34),\n",
              " (0, 35, 35),\n",
              " (0, 36, 36),\n",
              " (0, 37, 37),\n",
              " (0, 38, 38),\n",
              " (0, 39, 39),\n",
              " (0, 40, 40),\n",
              " (0, 41, 41),\n",
              " (0, 42, 42),\n",
              " (0, 43, 43),\n",
              " (0, 44, 44),\n",
              " (0, 45, 45),\n",
              " (0, 46, 46),\n",
              " (0, 47, 47),\n",
              " (0, 48, 48),\n",
              " (0, 49, 49),\n",
              " (0, 50, 50),\n",
              " (0, 51, 51),\n",
              " (0, 52, 52),\n",
              " (0, 53, 53),\n",
              " (0, 54, 54),\n",
              " (0, 55, 55),\n",
              " (0, 56, 56),\n",
              " (0, 57, 57),\n",
              " (0, 58, 58),\n",
              " (0, 59, 59),\n",
              " (0, 60, 60),\n",
              " (0, 61, 61),\n",
              " (0, 62, 62),\n",
              " (0, 63, 63),\n",
              " (0, 64, 64),\n",
              " (0, 65, 65),\n",
              " (0, 66, 66),\n",
              " (0, 67, 67),\n",
              " (0, 68, 68),\n",
              " (0, 69, 69),\n",
              " (0, 70, 70),\n",
              " (0, 71, 71),\n",
              " (0, 72, 72),\n",
              " (0, 73, 73),\n",
              " (0, 74, 74),\n",
              " (0, 75, 75),\n",
              " (0, 76, 76),\n",
              " (0, 77, 77),\n",
              " (0, 78, 78),\n",
              " (0, 79, 79),\n",
              " (0, 80, 80),\n",
              " (0, 81, 81),\n",
              " (0, 82, 82),\n",
              " (0, 83, 83),\n",
              " (0, 84, 84),\n",
              " (0, 85, 85),\n",
              " (0, 86, 86),\n",
              " (0, 87, 87),\n",
              " (0, 88, 88),\n",
              " (0, 89, 89),\n",
              " (0, 90, 90),\n",
              " (0, 91, 91),\n",
              " (0, 92, 92),\n",
              " (0, 93, 93),\n",
              " (0, 94, 94),\n",
              " (0, 95, 95),\n",
              " (0, 96, 96),\n",
              " (0, 97, 97),\n",
              " (0, 98, 98),\n",
              " (0, 99, 99),\n",
              " (3, 4, 5),\n",
              " (5, 12, 13),\n",
              " (6, 8, 10),\n",
              " (7, 24, 25),\n",
              " (8, 15, 17),\n",
              " (9, 12, 15),\n",
              " (9, 40, 41),\n",
              " (10, 24, 26),\n",
              " (11, 60, 61),\n",
              " (12, 16, 20),\n",
              " (12, 35, 37),\n",
              " (13, 84, 85),\n",
              " (14, 48, 50),\n",
              " (15, 20, 25),\n",
              " (15, 36, 39),\n",
              " (16, 30, 34),\n",
              " (16, 63, 65),\n",
              " (18, 24, 30),\n",
              " (18, 80, 82),\n",
              " (20, 21, 29),\n",
              " (20, 48, 52),\n",
              " (21, 28, 35),\n",
              " (21, 72, 75),\n",
              " (24, 32, 40),\n",
              " (24, 45, 51),\n",
              " (24, 70, 74),\n",
              " (25, 60, 65),\n",
              " (27, 36, 45),\n",
              " (28, 45, 53),\n",
              " (30, 40, 50),\n",
              " (30, 72, 78),\n",
              " (32, 60, 68),\n",
              " (33, 44, 55),\n",
              " (33, 56, 65),\n",
              " (35, 84, 91),\n",
              " (36, 48, 60),\n",
              " (36, 77, 85),\n",
              " (39, 52, 65),\n",
              " (39, 80, 89),\n",
              " (40, 42, 58),\n",
              " (40, 75, 85),\n",
              " (42, 56, 70),\n",
              " (45, 60, 75),\n",
              " (48, 55, 73),\n",
              " (48, 64, 80),\n",
              " (51, 68, 85),\n",
              " (54, 72, 90),\n",
              " (57, 76, 95),\n",
              " (60, 63, 87),\n",
              " (65, 72, 97)]"
            ]
          },
          "metadata": {},
          "execution_count": 7
        }
      ]
    },
    {
      "cell_type": "code",
      "source": [
        "[[0 for i in range(3)] for j in range(4)]"
      ],
      "metadata": {
        "colab": {
          "base_uri": "https://localhost:8080/"
        },
        "id": "CUSj8RRbEXB_",
        "outputId": "675145ad-8a6e-4124-da0b-609edd54c3cf"
      },
      "execution_count": null,
      "outputs": [
        {
          "output_type": "execute_result",
          "data": {
            "text/plain": [
              "[[0, 0, 0], [0, 0, 0], [0, 0, 0], [0, 0, 0]]"
            ]
          },
          "metadata": {},
          "execution_count": 11
        }
      ]
    },
    {
      "cell_type": "code",
      "source": [
        "[[(0) for i in range(3)] for j in range(4)]"
      ],
      "metadata": {
        "colab": {
          "base_uri": "https://localhost:8080/"
        },
        "id": "tBMP12NfEmol",
        "outputId": "97deb753-cc68-4c76-b8be-0f344e3c9ec7"
      },
      "execution_count": null,
      "outputs": [
        {
          "output_type": "execute_result",
          "data": {
            "text/plain": [
              "[[0, 0, 0], [0, 0, 0], [0, 0, 0], [0, 0, 0]]"
            ]
          },
          "metadata": {},
          "execution_count": 12
        }
      ]
    },
    {
      "cell_type": "code",
      "source": [
        "[[i for i in range(3)] for j in range(4)]"
      ],
      "metadata": {
        "colab": {
          "base_uri": "https://localhost:8080/"
        },
        "id": "uzuWC6DqE2L6",
        "outputId": "dc316fc4-eea3-47aa-9bd4-df43f563b727"
      },
      "execution_count": null,
      "outputs": [
        {
          "output_type": "execute_result",
          "data": {
            "text/plain": [
              "[[0, 1, 2], [0, 1, 2], [0, 1, 2], [0, 1, 2]]"
            ]
          },
          "metadata": {},
          "execution_count": 13
        }
      ]
    },
    {
      "cell_type": "code",
      "source": [
        ""
      ],
      "metadata": {
        "id": "Y9c5DTwqE5x8"
      },
      "execution_count": null,
      "outputs": []
    }
  ]
}