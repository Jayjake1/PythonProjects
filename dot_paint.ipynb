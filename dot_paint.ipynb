{
 "cells": [
  {
   "cell_type": "code",
   "execution_count": 2,
   "metadata": {},
   "outputs": [
    {
     "name": "stdout",
     "output_type": "stream",
     "text": [
      "Collecting pandasNote: you may need to restart the kernel to use updated packages.\n"
     ]
    },
    {
     "name": "stderr",
     "output_type": "stream",
     "text": [
      "WARNING: You are using pip version 21.2.3; however, version 21.3.1 is available.\n",
      "You should consider upgrading via the 'C:\\Users\\91970\\AppData\\Local\\Programs\\Python\\Python310\\python.exe -m pip install --upgrade pip' command.\n"
     ]
    },
    {
     "name": "stdout",
     "output_type": "stream",
     "text": [
      "\n",
      "  Downloading pandas-1.3.4-cp310-cp310-win_amd64.whl (10.2 MB)\n",
      "Collecting pytz>=2017.3\n",
      "  Using cached pytz-2021.3-py2.py3-none-any.whl (503 kB)\n",
      "Requirement already satisfied: numpy>=1.21.0 in c:\\users\\91970\\appdata\\local\\programs\\python\\python310\\lib\\site-packages (from pandas) (1.21.3)\n",
      "Requirement already satisfied: python-dateutil>=2.7.3 in c:\\users\\91970\\appdata\\local\\programs\\python\\python310\\lib\\site-packages (from pandas) (2.8.2)\n",
      "Requirement already satisfied: six>=1.5 in c:\\users\\91970\\appdata\\local\\programs\\python\\python310\\lib\\site-packages (from python-dateutil>=2.7.3->pandas) (1.16.0)\n",
      "Installing collected packages: pytz, pandas\n",
      "Successfully installed pandas-1.3.4 pytz-2021.3\n"
     ]
    }
   ],
   "source": [
    "pip install pandas"
   ]
  },
  {
   "cell_type": "markdown",
   "metadata": {},
   "source": [
    "# Turtle projects\n",
    "\n",
    "Top one is main project\n",
    "\n",
    "-  color gram package - for color extraction\n"
   ]
  },
  {
   "cell_type": "code",
   "execution_count": 87,
   "metadata": {},
   "outputs": [],
   "source": [
    "from turtle import Turtle, Screen\n",
    "import turtle as t\n",
    "import random\n",
    "baby_turtle = Turtle()\n",
    "baby_turtle.shape(\"turtle\")\n",
    "baby_turtle.color(\"purple\")\n",
    "baby_turtle.speed(50)\n",
    "# baby_turtle.pensize(5)\n",
    "baby_turtle.penup()\n",
    "t.colormode(255)\n",
    "\n",
    "baby_turtle.setheading(225)\n",
    "baby_turtle.forward(150)\n",
    "baby_turtle.setheading(0)\n",
    "\n",
    "# color_list = [\"red\", \"orange\", \"yellow\", \"green\", \"blue\", \"purple\", \"pink\",'black']\n",
    "def random_color():\n",
    "    r = random.randint(0,255)\n",
    "    g = random.randint(0,255)\n",
    "    b = random.randint(0,255)\n",
    "    colored = (r,g,b)\n",
    "    return colored\n",
    "\n",
    "for dots in range(1,101):\n",
    "    baby_turtle.dot(20,random_color())\n",
    "    baby_turtle.forward(50)\n",
    "\n",
    "    if dots % 10 == 0:\n",
    "        baby_turtle.setheading(90)\n",
    "        baby_turtle.forward(50)\n",
    "        baby_turtle.setheading(180)\n",
    "        baby_turtle.forward(500)\n",
    "        baby_turtle.setheading(0)\n",
    "    \n",
    "    \n",
    "\n",
    "#screen for drawing a square\n",
    "small_screen = Screen()\n",
    "small_screen.bgcolor(\"white\")\n",
    "small_screen.title(\"A Turtle's Journey\")\n",
    "small_screen.exitonclick()"
   ]
  },
  {
   "cell_type": "code",
   "execution_count": 4,
   "metadata": {},
   "outputs": [],
   "source": [
    "from turtle import Turtle, Screen\n",
    "# Turtle is a class that is used to draw shapes\n",
    "# turtle module\n",
    "baby_turtle = Turtle()\n",
    "baby_turtle.shape(\"turtle\")\n",
    "baby_turtle.color(\"purple\")\n",
    "\n",
    "\n",
    "# Create a screen and click on it to exit\n",
    "small_screen = Screen()\n",
    "small_screen.bgcolor(\"lightgreen\")\n",
    "small_screen.title(\"A Turtle's Journey\")\n",
    "small_screen.exitonclick()"
   ]
  },
  {
   "cell_type": "code",
   "execution_count": 9,
   "metadata": {},
   "outputs": [],
   "source": [
    "# Drawing a square with a turtle\n",
    "from turtle import Turtle, Screen\n",
    "baby_turtle = Turtle()\n",
    "baby_turtle.shape(\"turtle\")\n",
    "baby_turtle.color(\"purple\")\n",
    "\n",
    "baby_turtle.forward(100)\n",
    "baby_turtle.left(90)\n",
    "baby_turtle.forward(100)\n",
    "baby_turtle.left(90)\n",
    "baby_turtle.forward(100)\n",
    "baby_turtle.left(90)\n",
    "baby_turtle.forward(100)\n",
    "#screen for drawing a square\n",
    "small_screen = Screen()\n",
    "small_screen.bgcolor(\"lightgreen\")\n",
    "small_screen.title(\"A Turtle's Journey\")\n",
    "small_screen.exitonclick()"
   ]
  },
  {
   "cell_type": "markdown",
   "metadata": {},
   "source": [
    "- import modules should be with specific in mind\n",
    "1. from turtle import * , imports all but usage becomes clumsy like forward(10), readable decreases\n",
    "2. from turtle import Turtle(), best way where other users can read it clearly\n",
    "3. import turtle, best when on time use case"
   ]
  },
  {
   "cell_type": "markdown",
   "metadata": {},
   "source": [
    "## Highway"
   ]
  },
  {
   "cell_type": "code",
   "execution_count": 11,
   "metadata": {},
   "outputs": [],
   "source": [
    "from turtle import Turtle, Screen\n",
    "baby_turtle = Turtle()\n",
    "baby_turtle.shape(\"turtle\")\n",
    "baby_turtle.color(\"purple\")\n",
    "# dash lane😅\n",
    "for i in range(50):\n",
    "    baby_turtle.forward(10)\n",
    "    baby_turtle.penup()\n",
    "    baby_turtle.forward(10)\n",
    "    baby_turtle.pendown()\n",
    "\n",
    "#screen for drawing a square\n",
    "small_screen = Screen()\n",
    "small_screen.bgcolor(\"lightgreen\")\n",
    "small_screen.title(\"A Turtle's Journey\")\n",
    "small_screen.exitonclick()"
   ]
  },
  {
   "cell_type": "markdown",
   "metadata": {},
   "source": [
    "## Shapes"
   ]
  },
  {
   "cell_type": "code",
   "execution_count": 19,
   "metadata": {},
   "outputs": [],
   "source": [
    "from turtle import Turtle, Screen\n",
    "baby_turtle = Turtle()\n",
    "baby_turtle.shape(\"turtle\")\n",
    "baby_turtle.color(\"purple\")\n",
    "color_list = [\"red\", \"orange\", \"yellow\", \"green\", \"blue\", \"purple\", \"pink\",'black']\n",
    "# shapes 😅\n",
    "for i in range(3,10):\n",
    "    baby_turtle.color(color_list[i-3])\n",
    "    for j in range(i):\n",
    "        ang = 360/i\n",
    "        baby_turtle.forward(100)\n",
    "        baby_turtle.left(ang)\n",
    "    \n",
    "\n",
    "#screen for drawing a square\n",
    "small_screen = Screen()\n",
    "small_screen.bgcolor(\"white\")\n",
    "small_screen.title(\"A Turtle's Journey\")\n",
    "small_screen.exitonclick()"
   ]
  },
  {
   "cell_type": "code",
   "execution_count": 21,
   "metadata": {},
   "outputs": [],
   "source": [
    "from turtle import Turtle, Screen\n",
    "import random\n",
    "baby_turtle = Turtle()\n",
    "baby_turtle.shape(\"turtle\")\n",
    "baby_turtle.color(\"purple\")\n",
    "color_list = [\"red\", \"orange\", \"yellow\", \"green\", \"blue\", \"purple\", \"pink\",'black']\n",
    "# shapes 😅\n",
    "for i in range(3,10):\n",
    "    baby_turtle.color(random.choice(color_list))\n",
    "    for j in range(i):\n",
    "        ang = 360/i\n",
    "        baby_turtle.forward(100)\n",
    "        baby_turtle.left(ang)\n",
    "    \n",
    "\n",
    "#screen for drawing a square\n",
    "small_screen = Screen()\n",
    "small_screen.bgcolor(\"white\")\n",
    "small_screen.title(\"A Turtle's Journey\")\n",
    "small_screen.exitonclick()"
   ]
  },
  {
   "cell_type": "markdown",
   "metadata": {},
   "source": [
    "## Random walker"
   ]
  },
  {
   "cell_type": "code",
   "execution_count": 30,
   "metadata": {},
   "outputs": [],
   "source": [
    "from turtle import Turtle, Screen\n",
    "import random\n",
    "baby_turtle = Turtle()\n",
    "baby_turtle.shape(\"turtle\")\n",
    "baby_turtle.color(\"purple\")\n",
    "baby_turtle.speed(2)\n",
    "baby_turtle.pensize(5)\n",
    "\n",
    "color_list = [\"red\", \"orange\", \"yellow\", \"green\", \"blue\", \"purple\", \"pink\",'black']\n",
    "direction_list = [0,90,180,270]\n",
    "# random walker 😅\n",
    "for i in range(100):\n",
    "    baby_turtle.color(random.choice(color_list))\n",
    "    baby_turtle.forward(20)\n",
    "    baby_turtle.setheading(random.choice(direction_list))\n",
    "    \n",
    "    \n",
    "\n",
    "#screen for drawing a square\n",
    "small_screen = Screen()\n",
    "small_screen.bgcolor(\"white\")\n",
    "small_screen.title(\"A Turtle's Journey\")\n",
    "small_screen.exitonclick()"
   ]
  },
  {
   "cell_type": "code",
   "execution_count": 41,
   "metadata": {},
   "outputs": [],
   "source": [
    "from turtle import Turtle, Screen\n",
    "import turtle as t\n",
    "import random\n",
    "baby_turtle = Turtle()\n",
    "baby_turtle.shape(\"turtle\")\n",
    "baby_turtle.color(\"purple\")\n",
    "baby_turtle.speed(2)\n",
    "baby_turtle.pensize(5)\n",
    "t.colormode(255)\n",
    "\n",
    "# color_list = [\"red\", \"orange\", \"yellow\", \"green\", \"blue\", \"purple\", \"pink\",'black']\n",
    "def random_color():\n",
    "    r = random.randint(0,255)\n",
    "    g = random.randint(0,255)\n",
    "    b = random.randint(0,255)\n",
    "    colored = (r,g,b)\n",
    "    return colored\n",
    "\n",
    "direction_list = [0,90,180,270]\n",
    "# random walker 😅\n",
    "for i in range(100):\n",
    "    baby_turtle.color(random_color())\n",
    "    baby_turtle.forward(20)\n",
    "    baby_turtle.setheading(random.choice(direction_list))\n",
    "    \n",
    "    \n",
    "\n",
    "#screen for drawing a square\n",
    "small_screen = Screen()\n",
    "small_screen.bgcolor(\"white\")\n",
    "small_screen.title(\"A Turtle's Journey\")\n",
    "small_screen.exitonclick()"
   ]
  },
  {
   "cell_type": "code",
   "execution_count": 51,
   "metadata": {},
   "outputs": [],
   "source": [
    "from turtle import Turtle, Screen\n",
    "import turtle as t\n",
    "import random\n",
    "baby_turtle = Turtle()\n",
    "baby_turtle.shape(\"turtle\")\n",
    "baby_turtle.color(\"purple\")\n",
    "baby_turtle.speed(50)\n",
    "# baby_turtle.pensize(5)\n",
    "t.colormode(255)\n",
    "\n",
    "# color_list = [\"red\", \"orange\", \"yellow\", \"green\", \"blue\", \"purple\", \"pink\",'black']\n",
    "def random_color():\n",
    "    r = random.randint(0,255)\n",
    "    g = random.randint(0,255)\n",
    "    b = random.randint(0,255)\n",
    "    colored = (r,g,b)\n",
    "    return colored\n",
    "\n",
    "direction_list = [0,90,180,270]\n",
    "# random walker 😅\n",
    "for i in range(150):\n",
    "    baby_turtle.color(random_color())\n",
    "    baby_turtle.circle(100)\n",
    "    baby_turtle.setheading(baby_turtle.heading()+5) #turtle.heading()\n",
    "    \n",
    "    \n",
    "\n",
    "#screen for drawing a square\n",
    "small_screen = Screen()\n",
    "small_screen.bgcolor(\"white\")\n",
    "small_screen.title(\"A Turtle's Journey\")\n",
    "small_screen.exitonclick()"
   ]
  },
  {
   "cell_type": "markdown",
   "metadata": {},
   "source": []
  },
  {
   "cell_type": "code",
   "execution_count": null,
   "metadata": {},
   "outputs": [],
   "source": []
  }
 ],
 "metadata": {
  "interpreter": {
   "hash": "d5ac5958375d8c5fa51a9ddba38eebb07e0b78077322fe7a40784a4c99b2f388"
  },
  "kernelspec": {
   "display_name": "Python 3.10.0 64-bit",
   "language": "python",
   "name": "python3"
  },
  "language_info": {
   "codemirror_mode": {
    "name": "ipython",
    "version": 3
   },
   "file_extension": ".py",
   "mimetype": "text/x-python",
   "name": "python",
   "nbconvert_exporter": "python",
   "pygments_lexer": "ipython3",
   "version": "3.10.0"
  },
  "orig_nbformat": 4
 },
 "nbformat": 4,
 "nbformat_minor": 2
}
